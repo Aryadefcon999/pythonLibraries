{
 "cells": [
  {
   "cell_type": "code",
   "execution_count": 1,
   "id": "b8c4ce15",
   "metadata": {},
   "outputs": [
    {
     "name": "stdout",
     "output_type": "stream",
     "text": [
      "Requirement already satisfied: beautifulsoup4 in c:\\users\\ketan\\anaconda3\\lib\\site-packages (4.10.0)\n",
      "Requirement already satisfied: soupsieve>1.2 in c:\\users\\ketan\\anaconda3\\lib\\site-packages (from beautifulsoup4) (2.2.1)\n",
      "Note: you may need to restart the kernel to use updated packages.\n"
     ]
    }
   ],
   "source": [
    "pip install beautifulsoup4\n"
   ]
  },
  {
   "cell_type": "code",
   "execution_count": 2,
   "id": "862ae176",
   "metadata": {},
   "outputs": [
    {
     "name": "stdout",
     "output_type": "stream",
     "text": [
      "Collecting package metadata (current_repodata.json): ...working... done\n",
      "Solving environment: ...working... done\n",
      "\n",
      "## Package Plan ##\n",
      "\n",
      "  environment location: C:\\Users\\ketan\\anaconda3\n",
      "\n",
      "  added / updated specs:\n",
      "    - beautifulsoup4\n",
      "\n",
      "\n",
      "The following packages will be downloaded:\n",
      "\n",
      "    package                    |            build\n",
      "    ---------------------------|-----------------\n",
      "    conda-4.12.0               |   py39haa95532_0        14.5 MB\n",
      "    ------------------------------------------------------------\n",
      "                                           Total:        14.5 MB\n",
      "\n",
      "The following packages will be UPDATED:\n",
      "\n",
      "  conda                               4.11.0-py39haa95532_0 --> 4.12.0-py39haa95532_0\n",
      "\n",
      "\n",
      "\n",
      "Downloading and Extracting Packages\n",
      "\n",
      "conda-4.12.0         | 14.5 MB   |            |   0% \n",
      "conda-4.12.0         | 14.5 MB   |            |   0% \n",
      "conda-4.12.0         | 14.5 MB   | 1          |   1% \n",
      "conda-4.12.0         | 14.5 MB   | 2          |   2% \n",
      "conda-4.12.0         | 14.5 MB   | 3          |   3% \n",
      "conda-4.12.0         | 14.5 MB   | 4          |   5% \n",
      "conda-4.12.0         | 14.5 MB   | 6          |   6% \n",
      "conda-4.12.0         | 14.5 MB   | 8          |   8% \n",
      "conda-4.12.0         | 14.5 MB   | 9          |  10% \n",
      "conda-4.12.0         | 14.5 MB   | #          |  11% \n",
      "conda-4.12.0         | 14.5 MB   | #2         |  12% \n",
      "conda-4.12.0         | 14.5 MB   | #3         |  14% \n",
      "conda-4.12.0         | 14.5 MB   | #5         |  16% \n",
      "conda-4.12.0         | 14.5 MB   | #7         |  17% \n",
      "conda-4.12.0         | 14.5 MB   | #9         |  19% \n",
      "conda-4.12.0         | 14.5 MB   | ##         |  21% \n",
      "conda-4.12.0         | 14.5 MB   | ##2        |  22% \n",
      "conda-4.12.0         | 14.5 MB   | ##4        |  24% \n",
      "conda-4.12.0         | 14.5 MB   | ##6        |  26% \n",
      "conda-4.12.0         | 14.5 MB   | ##7        |  28% \n",
      "conda-4.12.0         | 14.5 MB   | ##9        |  30% \n",
      "conda-4.12.0         | 14.5 MB   | ###1       |  31% \n",
      "conda-4.12.0         | 14.5 MB   | ###2       |  33% \n",
      "conda-4.12.0         | 14.5 MB   | ###4       |  35% \n",
      "conda-4.12.0         | 14.5 MB   | ###6       |  37% \n",
      "conda-4.12.0         | 14.5 MB   | ###8       |  38% \n",
      "conda-4.12.0         | 14.5 MB   | ###9       |  40% \n",
      "conda-4.12.0         | 14.5 MB   | ####1      |  41% \n",
      "conda-4.12.0         | 14.5 MB   | ####2      |  43% \n",
      "conda-4.12.0         | 14.5 MB   | ####4      |  44% \n",
      "conda-4.12.0         | 14.5 MB   | ####5      |  45% \n",
      "conda-4.12.0         | 14.5 MB   | ####6      |  47% \n",
      "conda-4.12.0         | 14.5 MB   | ####7      |  48% \n",
      "conda-4.12.0         | 14.5 MB   | ####8      |  49% \n",
      "conda-4.12.0         | 14.5 MB   | #####      |  50% \n",
      "conda-4.12.0         | 14.5 MB   | #####2     |  52% \n",
      "conda-4.12.0         | 14.5 MB   | #####3     |  53% \n",
      "conda-4.12.0         | 14.5 MB   | #####4     |  55% \n",
      "conda-4.12.0         | 14.5 MB   | #####5     |  56% \n",
      "conda-4.12.0         | 14.5 MB   | #####7     |  58% \n",
      "conda-4.12.0         | 14.5 MB   | #####9     |  60% \n",
      "conda-4.12.0         | 14.5 MB   | ######1    |  61% \n",
      "conda-4.12.0         | 14.5 MB   | ######3    |  63% \n",
      "conda-4.12.0         | 14.5 MB   | ######4    |  65% \n",
      "conda-4.12.0         | 14.5 MB   | ######6    |  66% \n",
      "conda-4.12.0         | 14.5 MB   | ######7    |  67% \n",
      "conda-4.12.0         | 14.5 MB   | ######8    |  69% \n",
      "conda-4.12.0         | 14.5 MB   | ######9    |  70% \n",
      "conda-4.12.0         | 14.5 MB   | #######    |  71% \n",
      "conda-4.12.0         | 14.5 MB   | #######1   |  72% \n",
      "conda-4.12.0         | 14.5 MB   | #######2   |  73% \n",
      "conda-4.12.0         | 14.5 MB   | #######3   |  74% \n",
      "conda-4.12.0         | 14.5 MB   | #######5   |  75% \n",
      "conda-4.12.0         | 14.5 MB   | #######6   |  76% \n",
      "conda-4.12.0         | 14.5 MB   | #######7   |  77% \n",
      "conda-4.12.0         | 14.5 MB   | #######8   |  78% \n",
      "conda-4.12.0         | 14.5 MB   | #######9   |  79% \n",
      "conda-4.12.0         | 14.5 MB   | ########   |  81% \n",
      "conda-4.12.0         | 14.5 MB   | ########2  |  82% \n",
      "conda-4.12.0         | 14.5 MB   | ########4  |  84% \n",
      "conda-4.12.0         | 14.5 MB   | ########6  |  86% \n",
      "conda-4.12.0         | 14.5 MB   | ########7  |  88% \n",
      "conda-4.12.0         | 14.5 MB   | ########9  |  90% \n",
      "conda-4.12.0         | 14.5 MB   | #########1 |  91% \n",
      "conda-4.12.0         | 14.5 MB   | #########3 |  93% \n",
      "conda-4.12.0         | 14.5 MB   | #########4 |  95% \n",
      "conda-4.12.0         | 14.5 MB   | #########6 |  97% \n",
      "conda-4.12.0         | 14.5 MB   | #########8 |  99% \n",
      "conda-4.12.0         | 14.5 MB   | ########## | 100% \n",
      "Preparing transaction: ...working... done\n",
      "Verifying transaction: ...working... done\n",
      "Executing transaction: ...working... done\n",
      "\n",
      "Note: you may need to restart the kernel to use updated packages.\n"
     ]
    }
   ],
   "source": [
    "conda install beautifulsoup4"
   ]
  },
  {
   "cell_type": "code",
   "execution_count": 3,
   "id": "26074ae0",
   "metadata": {},
   "outputs": [
    {
     "name": "stdout",
     "output_type": "stream",
     "text": [
      "Collecting package metadata (current_repodata.json): ...working... done\n",
      "Solving environment: ...working... done\n",
      "\n",
      "# All requested packages already installed.\n",
      "\n",
      "\n",
      "Note: you may need to restart the kernel to use updated packages.\n"
     ]
    }
   ],
   "source": [
    "conda install numpy\n"
   ]
  },
  {
   "cell_type": "code",
   "execution_count": 5,
   "id": "52aa556b",
   "metadata": {},
   "outputs": [
    {
     "name": "stdout",
     "output_type": "stream",
     "text": [
      "Collecting package metadata (current_repodata.json): ...working... done\n",
      "Solving environment: ...working... done\n",
      "\n",
      "# All requested packages already installed.\n",
      "\n",
      "\n",
      "Note: you may need to restart the kernel to use updated packages.\n"
     ]
    }
   ],
   "source": [
    "conda install pandas"
   ]
  },
  {
   "cell_type": "code",
   "execution_count": 4,
   "id": "80f29110",
   "metadata": {},
   "outputs": [
    {
     "name": "stdout",
     "output_type": "stream",
     "text": [
      "Collecting package metadata (current_repodata.json): ...working... done\n",
      "Solving environment: ...working... done\n",
      "\n",
      "# All requested packages already installed.\n",
      "\n",
      "\n",
      "Note: you may need to restart the kernel to use updated packages.\n"
     ]
    }
   ],
   "source": [
    "conda install matplotlib"
   ]
  },
  {
   "cell_type": "code",
   "execution_count": 3,
   "id": "ba6d6ccd",
   "metadata": {},
   "outputs": [],
   "source": [
    "import pandas as pd\n",
    "import numpy as np\n",
    "import matplotlib.pyplot as py\n",
    "\n",
    "%matplotlib inline\n",
    "\n",
    "from urllib.request import urlopen\n",
    "from bs4 import BeautifulSoup\n",
    "import re"
   ]
  },
  {
   "cell_type": "code",
   "execution_count": 54,
   "id": "f78f2307",
   "metadata": {},
   "outputs": [],
   "source": [
    "url=\"https://www.amazon.in/s?k=apple+watch&crid=J2X4BHXLPJTW&sprefix=apple%2Caps%2C278&ref=nb_sb_ss_ts-doa-p_2_5\"\n",
    "h=urlopen(url)"
   ]
  },
  {
   "cell_type": "code",
   "execution_count": 55,
   "id": "f560f3f2",
   "metadata": {},
   "outputs": [],
   "source": [
    "soup=BeautifulSoup(h)\n"
   ]
  },
  {
   "cell_type": "code",
   "execution_count": 11,
   "id": "f80ea8e5",
   "metadata": {},
   "outputs": [
    {
     "name": "stdout",
     "output_type": "stream",
     "text": [
      "Amazon.in: apple watch\n"
     ]
    }
   ],
   "source": [
    "tit=soup.title\n",
    "print(title.text)"
   ]
  },
  {
   "cell_type": "code",
   "execution_count": 28,
   "id": "523e58b4",
   "metadata": {},
   "outputs": [
    {
     "name": "stdout",
     "output_type": "stream",
     "text": [
      "/ref=nav_logo\n",
      "/customer-preferences/edit?ie=UTF8&preferencesReturnUrl=%2F&ref_=topnav_lang\n",
      "https://www.amazon.in/ap/signin?openid.pape.max_auth_age=0&openid.return_to=https%3A%2F%2Fwww.amazon.in%2F4gb-1rx8-pc3-samsung-12800s%2Fs%2F%3F_encoding%3DUTF8%26k%3D4gb%25201rx8%2520pc3%2520samsung%252012800s%26ref_%3Dnav_ya_signin&openid.identity=http%3A%2F%2Fspecs.openid.net%2Fauth%2F2.0%2Fidentifier_select&openid.assoc_handle=inflex&openid.mode=checkid_setup&openid.claimed_id=http%3A%2F%2Fspecs.openid.net%2Fauth%2F2.0%2Fidentifier_select&openid.ns=http%3A%2F%2Fspecs.openid.net%2Fauth%2F2.0&\n",
      "/gp/css/order-history?ref_=nav_orders_first\n",
      "https://www.amazon.in/gp/cart/view.html?ref_=nav_cart\n",
      "/gp/site-directory?ref_=nav_em_js_disabled\n",
      "/gp/bestsellers/?ref_=nav_cs_bestsellers\n",
      "/mobile-phones/b/?ie=UTF8&node=1389401031&ref_=nav_cs_mobiles\n",
      "/gp/help/customer/display.html?nodeId=200507590&ref_=nav_cs_help\n",
      "/deals?ref_=nav_cs_gb\n",
      "/gp/browse.html?node=6648217031&ref_=nav_cs_fashion\n",
      "/electronics/b/?ie=UTF8&node=976419031&ref_=nav_cs_electronics\n",
      "/prime?ref_=nav_cs_primelink_nonmember\n",
      "/Home-Kitchen/b/?ie=UTF8&node=976442031&ref_=nav_cs_home\n",
      "/gp/new-releases/?ref_=nav_cs_newreleases\n",
      "/gp/sva/dashboard?ref_=nav_cs_apay\n",
      "/computers-and-accessories/b/?ie=UTF8&node=976392031&ref_=nav_cs_pc\n",
      "/Books/b/?ie=UTF8&node=976389031&ref_=nav_cs_books\n",
      "/amazon-coupons/b/?_encoding=UTF8&node=10465704031&ref_=nav_cs_coupons\n",
      "/gp/browse.html?node=14284467031&ref_=nav_cs_outlet\n",
      "/Toys-Games/b/?ie=UTF8&node=1350380031&ref_=nav_cs_toys\n",
      "/b/?node=2838698031&ld=AZINSOANavDesktop&ref_=nav_cs_sell\n",
      "/Gourmet-Specialty-Foods/b/?ie=UTF8&node=2454178031&ref_=nav_cs_grocery\n",
      "/gift-card-store/b/?ie=UTF8&node=3704982031&ref_=nav_cs_gc\n",
      "/Car-Motorbike-Store/b/?ie=UTF8&node=4772060031&ref_=nav_cs_automotive\n",
      "/beauty/b/?ie=UTF8&node=1355016031&ref_=nav_cs_beauty\n",
      "/Sports/b/?ie=UTF8&node=1984443031&ref_=nav_cs_sports\n",
      "/video-games/b/?ie=UTF8&node=976460031&ref_=nav_cs_video_games\n",
      "/health-and-personal-care/b/?ie=UTF8&node=1350384031&ref_=nav_cs_hpc\n",
      "/Baby/b/?ie=UTF8&node=1571274031&ref_=nav_cs_baby\n",
      "/Pet-Supplies/b/?ie=UTF8&node=2454181031&ref_=nav_cs_pets\n",
      "/gp/browse.html?node=3704992031&ref_=nav_cs_hi\n",
      "/gcx/-/gfhz/?ref_=nav_cs_giftfinder\n",
      "/Kindle-eBooks/b/?ie=UTF8&node=1634753031&ref_=nav_cs_kindle_books\n",
      "/b/?node=6637738031&ref_=nav_cs_amazonbasics\n",
      "/Audible-Books-and-Originals/b/?ie=UTF8&node=17941593031&ref_=nav_cs_audible\n",
      "/events/summersale/?_encoding=UTF8&ref_=nav_swm_swm_gd&pf_rd_p=0cf1df03-429e-4a44-b9d0-575895717b7f&pf_rd_s=nav-sitewide-msg&pf_rd_t=4201&pf_rd_i=navbar-4201&pf_rd_m=A21TJRUUN4KGV&pf_rd_r=EV16KYSFGJ5YYYK3SGYD\n",
      "/Apple-Watch-GPS-40mm-Aluminium/dp/B09G9BZ6K5\n",
      "/Apple-Watch-GPS-40mm-Aluminium/dp/B09G9BZ6K5\n",
      "javascript:void(0)\n",
      "/Apple-Watch-GPS-40mm-Aluminium/dp/B09G9BZ6K5#customerReviews\n",
      "/Apple-Watch-GPS-40mm-Aluminium/dp/B09G9BZ6K5\n",
      "/Apple-Watch-Smart-Space-Aluminum/dp/B075R9P7H8\n",
      "/Apple-Watch-Smart-Space-Aluminum/dp/B075R9P7H8\n",
      "javascript:void(0)\n",
      "/Apple-Watch-Smart-Space-Aluminum/dp/B075R9P7H8#customerReviews\n",
      "/Apple-Watch-Smart-Space-Aluminum/dp/B075R9P7H8\n",
      "/Apple-Watch-GPS-40mm-Aluminium/dp/B09G96LV3G\n",
      "/Apple-Watch-GPS-40mm-Aluminium/dp/B09G96LV3G\n",
      "javascript:void(0)\n",
      "/Apple-Watch-GPS-40mm-Aluminium/dp/B09G96LV3G#customerReviews\n",
      "/Apple-Watch-GPS-40mm-Aluminium/dp/B09G96LV3G\n",
      "/Apple-Watch-GPS-40mm-Aluminium/dp/B09G9FKD21\n",
      "/Apple-Watch-GPS-40mm-Aluminium/dp/B09G9FKD21\n",
      "javascript:void(0)\n",
      "/Apple-Watch-GPS-40mm-Aluminium/dp/B09G9FKD21#customerReviews\n",
      "/Apple-Watch-GPS-40mm-Aluminium/dp/B09G9FKD21\n",
      "/Apple-Watch-GPS-41mm-Aluminium/dp/B09HHF7DS9\n",
      "/Apple-Watch-GPS-41mm-Aluminium/dp/B09HHF7DS9\n",
      "javascript:void(0)\n",
      "/Apple-Watch-GPS-41mm-Aluminium/dp/B09HHF7DS9#customerReviews\n",
      "/Apple-Watch-GPS-41mm-Aluminium/dp/B09HHF7DS9\n",
      "/Apple-Watch-Smart-Silver-Aluminum/dp/B075RB1D46\n",
      "/Apple-Watch-Smart-Silver-Aluminum/dp/B075RB1D46\n",
      "javascript:void(0)\n",
      "/Apple-Watch-Smart-Silver-Aluminum/dp/B075RB1D46#customerReviews\n",
      "/Apple-Watch-Smart-Silver-Aluminum/dp/B075RB1D46\n",
      "/Apple-Watch-GPS-45mm-Aluminium/dp/B09HHDBMS3\n",
      "/Apple-Watch-GPS-45mm-Aluminium/dp/B09HHDBMS3\n",
      "javascript:void(0)\n",
      "/Apple-Watch-GPS-45mm-Aluminium/dp/B09HHDBMS3#customerReviews\n",
      "/Apple-Watch-GPS-45mm-Aluminium/dp/B09HHDBMS3\n",
      "/Apple-Watch-GPS-41mm-Aluminium/dp/B09HHFRWZB\n",
      "/Apple-Watch-GPS-41mm-Aluminium/dp/B09HHFRWZB\n",
      "javascript:void(0)\n",
      "/Apple-Watch-GPS-41mm-Aluminium/dp/B09HHFRWZB#customerReviews\n",
      "/Apple-Watch-GPS-41mm-Aluminium/dp/B09HHFRWZB\n",
      "/Apple-Watch-GPS-44mm-Aluminium/dp/B09G9RWJMK\n",
      "/Apple-Watch-GPS-44mm-Aluminium/dp/B09G9RWJMK\n",
      "javascript:void(0)\n",
      "/Apple-Watch-GPS-44mm-Aluminium/dp/B09G9RWJMK#customerReviews\n",
      "/Apple-Watch-GPS-44mm-Aluminium/dp/B09G9RWJMK\n",
      "/Apple-Watch-GPS-41mm-Starlight/dp/B09HHG8LJ9\n",
      "/Apple-Watch-GPS-41mm-Starlight/dp/B09HHG8LJ9\n",
      "javascript:void(0)\n",
      "/Apple-Watch-GPS-41mm-Starlight/dp/B09HHG8LJ9#customerReviews\n",
      "/Apple-Watch-GPS-41mm-Starlight/dp/B09HHG8LJ9\n",
      "/Apple-Watch-GPS-Cellular-45mm/dp/B09HHH56YN\n",
      "/Apple-Watch-GPS-Cellular-45mm/dp/B09HHH56YN\n",
      "javascript:void(0)\n",
      "/Apple-Watch-GPS-Cellular-45mm/dp/B09HHH56YN#customerReviews\n",
      "/Apple-Watch-GPS-Cellular-45mm/dp/B09HHH56YN\n",
      "/Apple-Watch-GPS-Cellular-44mm/dp/B09G9H7FNX\n",
      "/Apple-Watch-GPS-Cellular-44mm/dp/B09G9H7FNX\n",
      "javascript:void(0)\n",
      "/Apple-Watch-GPS-Cellular-44mm/dp/B09G9H7FNX#customerReviews\n",
      "/Apple-Watch-GPS-Cellular-44mm/dp/B09G9H7FNX\n",
      "/Apple-Watch-GPS-Cellular-45mm/dp/B09HHF5H2S\n",
      "/Apple-Watch-GPS-Cellular-45mm/dp/B09HHF5H2S\n",
      "javascript:void(0)\n",
      "/Apple-Watch-GPS-Cellular-45mm/dp/B09HHF5H2S#customerReviews\n",
      "/Apple-Watch-GPS-Cellular-45mm/dp/B09HHF5H2S\n",
      "/Apple-Watch-GPS-44mm-Aluminium/dp/B09G9HTYVV\n",
      "/Apple-Watch-GPS-44mm-Aluminium/dp/B09G9HTYVV\n",
      "javascript:void(0)\n",
      "/Apple-Watch-GPS-44mm-Aluminium/dp/B09G9HTYVV#customerReviews\n",
      "/Apple-Watch-GPS-44mm-Aluminium/dp/B09G9HTYVV\n",
      "/Apple-Watch-GPS-Cellular-40mm/dp/B09G9717T5\n",
      "/Apple-Watch-GPS-Cellular-40mm/dp/B09G9717T5\n",
      "javascript:void(0)\n",
      "/Apple-Watch-GPS-Cellular-40mm/dp/B09G9717T5#customerReviews\n",
      "/Apple-Watch-GPS-Cellular-40mm/dp/B09G9717T5\n",
      "/Apple-Watch-GPS-45mm-Aluminium/dp/B09HHDFKFD\n",
      "/Apple-Watch-GPS-45mm-Aluminium/dp/B09HHDFKFD\n",
      "javascript:void(0)\n",
      "/Apple-Watch-GPS-45mm-Aluminium/dp/B09HHDFKFD#customerReviews\n",
      "/Apple-Watch-GPS-45mm-Aluminium/dp/B09HHDFKFD\n",
      "/s/?k=apple+watch+series+6&ref=sugsr_0_12&pd_rd_w=Y5LJh&pf_rd_p=206c771a-9255-43c3-91ee-be3d883c7b95&pf_rd_r=H7CKNKYYD2W23XXDHCY2&pd_rd_r=750b7e7b-6e46-4afe-85d8-c7ecc55a5639&pd_rd_wg=plete&qid=1651733361\n",
      "/s/?k=samsung+watch&ref=sugsr_3_7&pd_rd_w=Y5LJh&pf_rd_p=206c771a-9255-43c3-91ee-be3d883c7b95&pf_rd_r=H7CKNKYYD2W23XXDHCY2&pd_rd_r=750b7e7b-6e46-4afe-85d8-c7ecc55a5639&pd_rd_wg=plete&qid=1651733361\n",
      "/s/?k=apple+watch+series+7&ref=sugsr_1_9&pd_rd_w=Y5LJh&pf_rd_p=206c771a-9255-43c3-91ee-be3d883c7b95&pf_rd_r=H7CKNKYYD2W23XXDHCY2&pd_rd_r=750b7e7b-6e46-4afe-85d8-c7ecc55a5639&pd_rd_wg=plete&qid=1651733361\n",
      "/s/?k=apple&ref=sugsr_4_4&pd_rd_w=Y5LJh&pf_rd_p=206c771a-9255-43c3-91ee-be3d883c7b95&pf_rd_r=H7CKNKYYD2W23XXDHCY2&pd_rd_r=750b7e7b-6e46-4afe-85d8-c7ecc55a5639&pd_rd_wg=plete&qid=1651733361\n",
      "/s/?k=smart+watch&ref=sugsr_2_9&pd_rd_w=Y5LJh&pf_rd_p=206c771a-9255-43c3-91ee-be3d883c7b95&pf_rd_r=H7CKNKYYD2W23XXDHCY2&pd_rd_r=750b7e7b-6e46-4afe-85d8-c7ecc55a5639&pd_rd_wg=plete&qid=1651733361\n",
      "/apple-watch/s?k=apple+watch&page=2\n",
      "/apple-watch/s?k=apple+watch&page=3\n",
      "/apple-watch/s?k=apple+watch&page=4\n",
      "/apple-watch/s?k=apple+watch&page=2\n",
      "/gp/help/customer/display.html?nodeId=200533820\n",
      "/gp/help/customer/contact-us\n",
      "#s-skipLinkTargetForFilterOptions\n",
      "#s-skipLinkTargetForMainSearchResults\n",
      "/apple-watch/s?k=apple+watch&rh=n%3A976419031%2Cp_n_condition-type%3A8609960031\n",
      "/apple-watch/s?k=apple+watch&rh=p_90%3A6741117031\n",
      "/apple-watch/s?k=apple+watch&rh=p_90%3A6741118031\n",
      "/apple-watch-Mobile-Accessories/s?k=apple+watch&rh=n%3A1389402031\n",
      "/apple-watch-Smart-Watches-Mobile-Accessories/s?k=apple+watch&rh=n%3A5605728031\n",
      "/apple-watch-Womens-Watches/s?k=apple+watch&rh=n%3A2563505031\n",
      "/apple-watch-Womens-Fashion-Smartwatches-Watches/s?k=apple+watch&rh=n%3A15723942031\n",
      "/apple-watch-Wearable-Technology/s?k=apple+watch&rh=n%3A11599648031\n",
      "/apple-watch-Arm-Wristband-Accessories/s?k=apple+watch&rh=n%3A11599650031\n",
      "/apple-watch/s?k=apple+watch&i=electronics\n",
      "/apple-watch/s?k=apple+watch&i=watches\n",
      "/apple-watch/s?k=apple+watch&i=sporting\n",
      "/apple-watch/s?k=apple+watch&i=computers\n",
      "/apple-watch/s?k=apple+watch&i=automotive\n",
      "/apple-watch/s?k=apple+watch&i=industrial\n",
      "/apple-watch/s?k=apple+watch&i=hpc\n",
      "/apple-watch/s?k=apple+watch&i=toys\n",
      "/apple-watch/s?k=apple+watch&i=beauty\n",
      "/apple-watch/s?k=apple+watch&i=kitchen\n",
      "javascript:void(0)\n",
      "/apple-watch/s?k=apple+watch&rh=p_72%3A1318476031\n",
      "/apple-watch/s?k=apple+watch&rh=p_72%3A1318477031\n",
      "/apple-watch/s?k=apple+watch&rh=p_72%3A1318478031\n",
      "/apple-watch/s?k=apple+watch&rh=p_72%3A1318479031\n",
      "/apple-watch/s?k=apple+watch&rh=n%3A976419031%2Cp_89%3AApple\n",
      "/apple-watch/s?k=apple+watch&rh=n%3A976419031%2Cp_89%3AFire-Boltt\n",
      "/apple-watch/s?k=apple+watch&rh=n%3A976419031%2Cp_89%3ANoise\n",
      "/apple-watch/s?k=apple+watch&rh=n%3A976419031%2Cp_89%3AAmazfit\n",
      "/apple-watch/s?k=apple+watch&rh=n%3A976419031%2Cp_89%3AFitbit\n",
      "/apple-watch/s?k=apple+watch&rh=n%3A976419031%2Cp_89%3AZEBRONICS\n",
      "/apple-watch/s?k=apple+watch&rh=n%3A976419031%2Cp_89%3AboAt\n",
      "/apple-watch/s?k=apple+watch&rh=n%3A976419031%2Cp_89%3AOnePlus\n",
      "/apple-watch/s?k=apple+watch&rh=n%3A976419031%2Cp_89%3AAmbrane\n",
      "/apple-watch/s?k=apple+watch&rh=n%3A976419031%2Cp_89%3ASpigen\n",
      "/apple-watch/s?k=apple+watch&rh=n%3A976419031%2Cp_89%3AGarmin\n",
      "/apple-watch/s?k=apple+watch&rh=n%3A976419031%2Cp_89%3ASamsung\n",
      "/apple-watch/s?k=apple+watch&rh=n%3A976419031%2Cp_89%3AReebok\n",
      "/apple-watch/s?k=apple+watch&rh=n%3A976419031%2Cp_89%3Arealme\n",
      "/apple-watch/s?k=apple+watch&rh=n%3A976419031%2Cp_89%3AKAPA\n",
      "/apple-watch/s?k=apple+watch&rh=n%3A976419031%2Cp_89%3AFullmosa\n",
      "/apple-watch/s?k=apple+watch&rh=n%3A976419031%2Cp_89%3AFossil\n",
      "/apple-watch/s?k=apple+watch&rh=n%3A976419031%2Cp_89%3AAQFIT\n",
      "/apple-watch/s?k=apple+watch&rh=n%3A976419031%2Cp_89%3AGeneric\n",
      "/apple-watch/s?k=apple+watch&rh=n%3A976419031%2Cp_89%3ATitan\n",
      "/apple-watch/s?k=apple+watch&rh=n%3A976419031%2Cp_89%3Ahelix\n",
      "/apple-watch/s?k=apple+watch&rh=n%3A976419031%2Cp_89%3ATough+Lee\n",
      "/apple-watch/s?k=apple+watch&rh=n%3A976419031%2Cp_89%3AORBITAR\n",
      "/apple-watch/s?k=apple+watch&rh=n%3A976419031%2Cp_89%3AFastrack\n",
      "/apple-watch/s?k=apple+watch&rh=n%3A976419031%2Cp_89%3ABFIT\n",
      "/apple-watch/s?k=apple+watch&rh=n%3A976419031%2Cp_89%3AFrench+Connection\n",
      "/apple-watch/s?k=apple+watch&rh=n%3A976419031%2Cp_89%3Apenguin+kart\n",
      "/apple-watch/s?k=apple+watch&rh=n%3A976419031%2Cp_89%3AANTONIA\n",
      "/apple-watch/s?k=apple+watch&rh=n%3A976419031%2Cp_89%3ATECHONTO\n",
      "/apple-watch/s?k=apple+watch&rh=n%3A976419031%2Cp_89%3APriefy\n",
      "/apple-watch/s?k=apple+watch&rh=n%3A976419031%2Cp_89%3ATIMEX\n",
      "/apple-watch/s?k=apple+watch&rh=n%3A976419031%2Cp_89%3ACAVIOT\n",
      "/apple-watch/s?k=apple+watch&rh=n%3A976419031%2Cp_89%3ATAURI\n",
      "/apple-watch/s?k=apple+watch&rh=n%3A976419031%2Cp_89%3AAFFIX\n",
      "/apple-watch/s?k=apple+watch&rh=n%3A976419031%2Cp_89%3AMaxima\n",
      "/apple-watch/s?k=apple+watch&rh=n%3A976419031%2Cp_89%3AMichael+Kors\n",
      "javascript:void(0)\n",
      "/apple-watch/s?k=apple+watch&rh=n%3A976419031%2Cp_36%3A1318503031\n",
      "/apple-watch/s?k=apple+watch&rh=n%3A976419031%2Cp_36%3A1318504031\n",
      "/apple-watch/s?k=apple+watch&rh=n%3A976419031%2Cp_36%3A1318505031\n",
      "/apple-watch/s?k=apple+watch&rh=n%3A976419031%2Cp_36%3A1318506031\n",
      "/apple-watch/s?k=apple+watch&rh=n%3A976419031%2Cp_36%3A1318507031\n",
      "/apple-watch/s?k=apple+watch&rh=p_n_specials_match%3A21618256031\n",
      "/apple-watch/s?k=apple+watch&rh=n%3A976419031%2Cp_n_is_private_label%3A16184648031\n",
      "/apple-watch/s?k=apple+watch&rh=n%3A5605728031%2Cp_n_feature_browse-bin%3A7014405031\n",
      "/apple-watch/s?k=apple+watch&rh=n%3A5605728031%2Cp_n_feature_browse-bin%3A7014406031\n",
      "/apple-watch/s?k=apple+watch&rh=n%3A5605728031%2Cp_n_feature_browse-bin%3A7014407031\n",
      "/apple-watch/s?k=apple+watch&rh=n%3A5605728031%2Cp_n_feature_browse-bin%3A7014409031\n",
      "/apple-watch/s?k=apple+watch&rh=n%3A5605728031%2Cp_n_feature_browse-bin%3A7014410031\n",
      "/apple-watch/s?k=apple+watch&rh=n%3A5605728031%2Cp_n_feature_browse-bin%3A7014411031\n",
      "/apple-watch/s?k=apple+watch&rh=n%3A5605728031%2Cp_n_feature_browse-bin%3A7014413031\n",
      "/apple-watch/s?k=apple+watch&rh=n%3A5605728031%2Cp_n_feature_browse-bin%3A7014415031\n",
      "/apple-watch/s?k=apple+watch&rh=n%3A5605728031%2Cp_n_feature_browse-bin%3A7014417031\n",
      "/apple-watch/s?k=apple+watch&rh=n%3A5605728031%2Cp_n_feature_browse-bin%3A7014418031\n",
      "/apple-watch/s?k=apple+watch&rh=n%3A5605728031%2Cp_n_feature_browse-bin%3A7014420031\n",
      "/apple-watch/s?k=apple+watch&rh=n%3A5605728031%2Cp_n_feature_browse-bin%3A7014421031\n",
      "/apple-watch/s?k=apple+watch&rh=n%3A5605728031%2Cp_n_feature_browse-bin%3A7014422031\n",
      "/apple-watch/s?k=apple+watch&rh=n%3A5605728031%2Cp_n_feature_browse-bin%3A7014425031\n",
      "/apple-watch/s?k=apple+watch&rh=n%3A5605728031%2Cp_n_feature_eighteen_browse-bin%3A27959621031\n",
      "/apple-watch/s?k=apple+watch&rh=n%3A5605728031%2Cp_n_feature_eighteen_browse-bin%3A27959622031\n",
      "/apple-watch/s?k=apple+watch&rh=n%3A5605728031%2Cp_n_feature_eighteen_browse-bin%3A27959623031\n",
      "/apple-watch/s?k=apple+watch&rh=n%3A5605728031%2Cp_n_feature_eighteen_browse-bin%3A27959620031\n",
      "/apple-watch/s?k=apple+watch&rh=p_n_is_cod_eligible%3A4931671031\n",
      "/apple-watch/s?k=apple+watch&rh=n%3A5605728031%2Cp_n_feature_seventeen_browse-bin%3A27362388031\n",
      "/apple-watch/s?k=apple+watch&rh=n%3A5605728031%2Cp_n_feature_seventeen_browse-bin%3A27362386031\n",
      "/apple-watch/s?k=apple+watch&rh=n%3A5605728031%2Cp_n_feature_six_browse-bin%3A27317412031\n",
      "/apple-watch/s?k=apple+watch&rh=n%3A5605728031%2Cp_n_feature_six_browse-bin%3A27317417031\n",
      "/apple-watch/s?k=apple+watch&rh=n%3A5605728031%2Cp_n_feature_six_browse-bin%3A27317415031\n",
      "/apple-watch/s?k=apple+watch&rh=n%3A5605728031%2Cp_n_feature_six_browse-bin%3A27317414031\n",
      "/apple-watch/s?k=apple+watch&rh=n%3A5605728031%2Cp_n_feature_fifteen_browse-bin%3A27356562031\n",
      "/apple-watch/s?k=apple+watch&rh=n%3A5605728031%2Cp_n_feature_fifteen_browse-bin%3A27356564031\n",
      "/apple-watch/s?k=apple+watch&rh=n%3A976419031%2Cp_n_pct-off-with-tax%3A2665399031\n",
      "/apple-watch/s?k=apple+watch&rh=n%3A976419031%2Cp_n_pct-off-with-tax%3A2665400031\n",
      "/apple-watch/s?k=apple+watch&rh=n%3A976419031%2Cp_n_pct-off-with-tax%3A2665402031\n",
      "/apple-watch/s?k=apple+watch&rh=n%3A976419031%2Cp_n_pct-off-with-tax%3A2665401031\n",
      "/apple-watch/s?k=apple+watch&rh=n%3A976419031%2Cp_n_pct-off-with-tax%3A27060456031\n",
      "/apple-watch/s?k=apple+watch&rh=n%3A976419031%2Cp_n_pct-off-with-tax%3A27060457031\n",
      "/apple-watch/s?k=apple+watch&rh=p_n_availability%3A1318485031\n",
      "/gp/history\n",
      "/gp/history\n",
      "#nav-top\n",
      "https://www.aboutamazon.in/?utm_source=gateway&utm_medium=footer\n",
      "https://amazon.jobs\n",
      "https://press.aboutamazon.in/?utm_source=gateway&utm_medium=footer\n",
      "/gp/browse.html?node=8872558031&ref_=footer_cares\n",
      "/gp/browse.html?node=4594605031&ref_=footer_smile\n",
      "https://www.amazon.science\n",
      "http://www.amazon.in/gp/redirect.html/ref=footer_fb?location=http://www.facebook.com/AmazonIN&token=2075D5EAC7BB214089728E2183FD391706D41E94&6\n",
      "http://www.amazon.in/gp/redirect.html/ref=footer_twitter?location=http://twitter.com/AmazonIN&token=A309DFBFCB1E37A808FF531934855DC817F130B6&6\n",
      "http://www.amazon.in/gp/redirect.html?location=https://www.instagram.com/amazondotin&token=264882C912E9D005CB1D9B61F12E125D5DF9BFC7&source=standards\n",
      "/b/?node=2838698031&ld=AZINSOANavDesktopFooter&ref_=nav_footer_sell\n",
      "https://accelerator.amazon.in/?ref_=map_1_b2b_GW_FT\n",
      "https://sell.amazon.in/grow-your-business/amazon-global-selling.html?ld=AZIN_Footer_V1&ref=AZIN_Footer_V1\n",
      "https://affiliate-program.amazon.in/?utm_campaign=assocshowcase&utm_medium=footer&utm_source=GW&ref_=footer_assoc\n",
      "http://services.amazon.in/services/fulfilment-by-amazon/benefits.html/ref=az_footer_fba?ld=AWRGINFBAfooter\n",
      "https://advertising.amazon.in/?ref=Amz.in\n",
      "https://www.amazonpay.in/merchant\n",
      "/gp/help/customer/display.html?nodeId=GDFU3JS5AL6SYHRD&ref_=footer_covid\n",
      "/gp/css/homepage.html?ref_=footer_ya\n",
      "/gp/css/returns/homepage.html?ref_=footer_hy_f_4\n",
      "/gp/help/customer/display.html?nodeId=201083470&ref_=footer_swc\n",
      "/gp/browse.html?node=6967393031&ref_=footer_mobapp\n",
      "/gp/BIT/theamazonapp/ref=footer_assistant_download_copy\n",
      "/gp/help/customer/display.html?nodeId=200507590&ref_=footer_gw_m_b_he\n",
      "/ref=footer_logo\n",
      "/customer-preferences/edit?ie=UTF8&preferencesReturnUrl=%2F&ref_=footer_lang\n",
      "http://www.amazon.com.au/ref=footer_au\n",
      "https://www.amazon.com.br/ref=footer_br\n",
      "https://www.amazon.ca/ref=footer_ca\n",
      "https://www.amazon.cn/ref=footer_cn\n",
      "https://www.amazon.fr/ref=footer_fr\n",
      "https://www.amazon.de/ref=footer_de\n",
      "https://www.amazon.it/ref=footer_it\n",
      "https://www.amazon.co.jp/ref=footer_jp\n",
      "https://www.amazon.com.mx/ref=footer_mx\n",
      "https://www.amazon.nl/ref=footer_nl\n",
      "https://www.amazon.pl/ref=footer_pl\n",
      "https://www.amazon.sg/ref=footer_sg\n",
      "https://www.amazon.es/ref=footer_es\n",
      "https://www.amazon.com.tr/ref=footer_tr\n",
      "https://www.amazon.ae/ref=footer_ae\n",
      "https://www.amazon.co.uk/ref=footer_uk\n",
      "https://www.amazon.com/ref=footer_us\n",
      "https://www.abebooks.com/\n",
      "https://aws.amazon.com/what-is-cloud-computing/?sc_channel=EL&sc_campaign=IN_amazonfooter\n",
      "https://www.audible.in/\n",
      "https://www.dpreview.com/\n",
      "https://www.imdb.com/\n",
      "https://www.shopbop.com/\n",
      "/business?ref=footer_aingw\n",
      "/now?ref=footer_amznow\n",
      "/music/prime?ref=footer_apm\n",
      "/gp/help/customer/display.html?nodeId=200545940&ref_=footer_cou\n",
      "/gp/help/customer/display.html?nodeId=200534380&ref_=footer_privacy\n",
      "/gp/help/customer/display.html?nodeId=202075050&ref_=footer_iba\n"
     ]
    }
   ],
   "source": [
    "link=soup.find_all('a',href=True)\n",
    "for link in link:\n",
    "    print(link.get(\"href\"))"
   ]
  },
  {
   "cell_type": "code",
   "execution_count": 50,
   "id": "042b8972",
   "metadata": {},
   "outputs": [
    {
     "name": "stdout",
     "output_type": "stream",
     "text": [
      "<tr>\n",
      "<td class=\"navFooterDescItem\"><a class=\"nav_a\" href=\"https://www.shopbop.com/\">Shopbop<br/><span class=\"navFooterDescText\">Designer<br/>Fashion Brands</span></a></td><td class=\"navFooterDescSpacer\" style=\"width: 4%\"></td>\n",
      "<td class=\"navFooterDescItem\"><a class=\"nav_a\" href=\"/business?ref=footer_aingw\">\t\n",
      "Amazon Business<br/><span class=\"navFooterDescText\">Everything For<br/>Your Business</span></a></td><td class=\"navFooterDescSpacer\" style=\"width: 4%\"></td>\n",
      "<td class=\"navFooterDescItem\"><a class=\"nav_a\" href=\"/now?ref=footer_amznow\">Prime Now<br/><span class=\"navFooterDescText\"> 2-Hour Delivery<br/>on Everyday Items</span></a></td><td class=\"navFooterDescSpacer\" style=\"width: 4%\"></td>\n",
      "<td class=\"navFooterDescItem\"><a class=\"nav_a\" href=\"/music/prime?ref=footer_apm\">Amazon Prime Music<br/><span class=\"navFooterDescText\">90 million songs, ad-free<br/>Over 15 million podcast episodes </span></a></td><td class=\"navFooterDescSpacer\" style=\"width: 4%\"></td>\n",
      "<td class=\"navFooterDescItem\"> </td>\n",
      "</tr>\n",
      "\n",
      "\n",
      "ShopbopDesignerFashion Brands\n",
      "\n",
      "\n",
      "\n",
      "\t\n",
      "Amazon BusinessEverything ForYour Business\n",
      "\n",
      "\n",
      "\n",
      "Prime Now 2-Hour Deliveryon Everyday Items\n",
      "\n",
      "\n",
      "\n",
      "Amazon Prime Music90 million songs, ad-freeOver 15 million podcast episodes \n",
      "\n",
      "\n",
      "\n",
      " \n",
      "\n",
      "\n"
     ]
    }
   ],
   "source": [
    "tig=soup.find_all('tr')#this is for call the  Tag \n",
    "\n",
    "for row in tig:\n",
    "    \n",
    "    row.find_all('td')\n",
    "    \n",
    "print(row)#here we call the seprate row using name\n",
    "\n",
    "for cell in row:#this is for call the text of web\n",
    "    \n",
    "    print(cell.text)\n"
   ]
  },
  {
   "cell_type": "code",
   "execution_count": 60,
   "id": "09260d28",
   "metadata": {},
   "outputs": [
    {
     "name": "stdout",
     "output_type": "stream",
     "text": [
      "[[' ', '  ', ' '], ['\\n', 'AbeBooksBooks, art& collectibles', '', '\\n', 'Amazon Web ServicesScalable CloudComputing Services', '', '\\n', 'AudibleDownloadAudio Books', '', '\\n', 'DPReviewDigitalPhotography', '', '\\n', 'IMDbMovies, TV& Celebrities'], ['\\xa0'], ['\\n', 'ShopbopDesignerFashion Brands', '', '\\n', '\\t\\nAmazon BusinessEverything ForYour Business', '', '\\n', 'Prime Now 2-Hour Deliveryon Everyday Items', '', '\\n', 'Amazon Prime Music90 million songs, ad-freeOver 15 million podcast episodes ', '', '\\n', '\\xa0', '\\n']]\n"
     ]
    }
   ],
   "source": [
    "data=[]\n",
    "\n",
    "tig=soup.find_all('tr')\n",
    "\n",
    "for row in tig: \n",
    "    \n",
    "    r=soup.find_all('td')\n",
    "    \n",
    "    datarow=[]\n",
    "    \n",
    "    for cell in row:\n",
    "        \n",
    "        datarow.append(cell.text)\n",
    "    \n",
    "    data.append(datarow)\n",
    "    \n",
    "print(data)\n",
    "    \n"
   ]
  },
  {
   "cell_type": "code",
   "execution_count": 69,
   "id": "9c4c54a2",
   "metadata": {},
   "outputs": [
    {
     "name": "stdout",
     "output_type": "stream",
     "text": [
      "   0                                 1  2     3   \\\n",
      "0                                           None   \n",
      "1  \\n  AbeBooksBooks, art& collectibles       \\n   \n",
      "\n",
      "                                                  4     5     6   \\\n",
      "0                                               None  None  None   \n",
      "1  Amazon Web ServicesScalable CloudComputing Ser...          \\n   \n",
      "\n",
      "                           7     8     9                           10    11  \\\n",
      "0                        None  None  None                        None  None   \n",
      "1  AudibleDownloadAudio Books          \\n  DPReviewDigitalPhotography         \n",
      "\n",
      "     12                           13    14  \n",
      "0  None                         None  None  \n",
      "1    \\n  IMDbMovies, TV& Celebrities  None  \n",
      "   0                              1     2     3   \\\n",
      "2                               None  None  None   \n",
      "3  \\n  ShopbopDesignerFashion Brands          \\n   \n",
      "\n",
      "                                               4     5     6   \\\n",
      "2                                            None  None  None   \n",
      "3  \\t\\nAmazon BusinessEverything ForYour Business          \\n   \n",
      "\n",
      "                                           7     8     9   \\\n",
      "2                                        None  None  None   \n",
      "3  Prime Now 2-Hour Deliveryon Everyday Items          \\n   \n",
      "\n",
      "                                                  10    11    12    13    14  \n",
      "2                                               None  None  None  None  None  \n",
      "3  Amazon Prime Music90 million songs, ad-freeOve...          \\n          \\n  \n"
     ]
    }
   ],
   "source": [
    "df = pd.DataFrame(data)\n",
    "print(df.head(2))\n",
    "print(df.tail(2))\n"
   ]
  },
  {
   "cell_type": "code",
   "execution_count": 73,
   "id": "a992b47e",
   "metadata": {},
   "outputs": [
    {
     "name": "stdout",
     "output_type": "stream",
     "text": [
      "[<tr> <td class=\"rhf-loading-inner\"> <img src=\"https://images-eu.ssl-images-amazon.com/images/G/31/personalization/ybh/loading-4x-gray._CB485916689_.gif\"/> </td> </tr>, <tr>\n",
      "<td class=\"navFooterDescItem\"><a class=\"nav_a\" href=\"https://www.abebooks.com/\">AbeBooks<br/><span class=\"navFooterDescText\">Books, art<br/>&amp; collectibles</span></a></td><td class=\"navFooterDescSpacer\" style=\"width: 4%\"></td>\n",
      "<td class=\"navFooterDescItem\"><a class=\"nav_a\" href=\"https://aws.amazon.com/what-is-cloud-computing/?sc_channel=EL&amp;sc_campaign=IN_amazonfooter\">Amazon Web Services<br/><span class=\"navFooterDescText\">Scalable Cloud<br/>Computing Services</span></a></td><td class=\"navFooterDescSpacer\" style=\"width: 4%\"></td>\n",
      "<td class=\"navFooterDescItem\"><a class=\"nav_a\" href=\"https://www.audible.in/\">Audible<br/><span class=\"navFooterDescText\">Download<br/>Audio Books</span></a></td><td class=\"navFooterDescSpacer\" style=\"width: 4%\"></td>\n",
      "<td class=\"navFooterDescItem\"><a class=\"nav_a\" href=\"https://www.dpreview.com/\">DPReview<br/><span class=\"navFooterDescText\">Digital<br/>Photography</span></a></td><td class=\"navFooterDescSpacer\" style=\"width: 4%\"></td>\n",
      "<td class=\"navFooterDescItem\"><a class=\"nav_a\" href=\"https://www.imdb.com/\">IMDb<br/><span class=\"navFooterDescText\">Movies, TV<br/>&amp; Celebrities</span></a></td></tr>, <tr><td> </td></tr>, <tr>\n",
      "<td class=\"navFooterDescItem\"><a class=\"nav_a\" href=\"https://www.shopbop.com/\">Shopbop<br/><span class=\"navFooterDescText\">Designer<br/>Fashion Brands</span></a></td><td class=\"navFooterDescSpacer\" style=\"width: 4%\"></td>\n",
      "<td class=\"navFooterDescItem\"><a class=\"nav_a\" href=\"/business?ref=footer_aingw\">\t\n",
      "Amazon Business<br/><span class=\"navFooterDescText\">Everything For<br/>Your Business</span></a></td><td class=\"navFooterDescSpacer\" style=\"width: 4%\"></td>\n",
      "<td class=\"navFooterDescItem\"><a class=\"nav_a\" href=\"/now?ref=footer_amznow\">Prime Now<br/><span class=\"navFooterDescText\"> 2-Hour Delivery<br/>on Everyday Items</span></a></td><td class=\"navFooterDescSpacer\" style=\"width: 4%\"></td>\n",
      "<td class=\"navFooterDescItem\"><a class=\"nav_a\" href=\"/music/prime?ref=footer_apm\">Amazon Prime Music<br/><span class=\"navFooterDescText\">90 million songs, ad-free<br/>Over 15 million podcast episodes </span></a></td><td class=\"navFooterDescSpacer\" style=\"width: 4%\"></td>\n",
      "<td class=\"navFooterDescItem\"> </td>\n",
      "</tr>]\n"
     ]
    }
   ],
   "source": [
    "col=soup.find_all('th')#this is the header file\n",
    "print(col)"
   ]
  },
  {
   "cell_type": "code",
   "execution_count": 77,
   "id": "1b442c9e",
   "metadata": {},
   "outputs": [
    {
     "name": "stdout",
     "output_type": "stream",
     "text": [
      "<class 'pandas.core.frame.DataFrame'>\n",
      "RangeIndex: 4 entries, 0 to 3\n",
      "Data columns (total 15 columns):\n",
      " #   Column  Non-Null Count  Dtype \n",
      "---  ------  --------------  ----- \n",
      " 0   0       4 non-null      object\n",
      " 1   1       3 non-null      object\n",
      " 2   2       3 non-null      object\n",
      " 3   3       2 non-null      object\n",
      " 4   4       2 non-null      object\n",
      " 5   5       2 non-null      object\n",
      " 6   6       2 non-null      object\n",
      " 7   7       2 non-null      object\n",
      " 8   8       2 non-null      object\n",
      " 9   9       2 non-null      object\n",
      " 10  10      2 non-null      object\n",
      " 11  11      2 non-null      object\n",
      " 12  12      2 non-null      object\n",
      " 13  13      2 non-null      object\n",
      " 14  14      1 non-null      object\n",
      "dtypes: object(15)\n",
      "memory usage: 608.0+ bytes\n"
     ]
    }
   ],
   "source": [
    "df.info()"
   ]
  },
  {
   "cell_type": "code",
   "execution_count": 79,
   "id": "1a9ac77b",
   "metadata": {},
   "outputs": [
    {
     "data": {
      "text/plain": [
       "(4, 15)"
      ]
     },
     "execution_count": 79,
     "metadata": {},
     "output_type": "execute_result"
    }
   ],
   "source": [
    "df.shape"
   ]
  },
  {
   "cell_type": "code",
   "execution_count": 84,
   "id": "dc6bae77",
   "metadata": {},
   "outputs": [
    {
     "data": {
      "text/plain": [
       "(1, 15)"
      ]
     },
     "execution_count": 84,
     "metadata": {},
     "output_type": "execute_result"
    }
   ],
   "source": [
    "df2=df.dropna(how=\"any\")\n",
    "df2.shape"
   ]
  },
  {
   "cell_type": "code",
   "execution_count": null,
   "id": "7aeb1166",
   "metadata": {},
   "outputs": [],
   "source": []
  },
  {
   "cell_type": "code",
   "execution_count": null,
   "id": "f91d74e2",
   "metadata": {},
   "outputs": [],
   "source": []
  },
  {
   "cell_type": "code",
   "execution_count": null,
   "id": "b473d3ee",
   "metadata": {},
   "outputs": [],
   "source": []
  }
 ],
 "metadata": {
  "kernelspec": {
   "display_name": "Python 3 (ipykernel)",
   "language": "python",
   "name": "python3"
  },
  "language_info": {
   "codemirror_mode": {
    "name": "ipython",
    "version": 3
   },
   "file_extension": ".py",
   "mimetype": "text/x-python",
   "name": "python",
   "nbconvert_exporter": "python",
   "pygments_lexer": "ipython3",
   "version": "3.9.7"
  }
 },
 "nbformat": 4,
 "nbformat_minor": 5
}
