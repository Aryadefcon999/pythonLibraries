{
 "cells": [
  {
   "cell_type": "code",
   "execution_count": 1,
   "id": "0b39d7f4",
   "metadata": {},
   "outputs": [
    {
     "name": "stdout",
     "output_type": "stream",
     "text": [
      "Ready to get the cirtificate\n"
     ]
    }
   ],
   "source": [
    "#Python is intercepate high leavel programing language \n",
    "hell = \"Ready to get the cirtificate\"\n",
    "print (hell)"
   ]
  },
  {
   "cell_type": "code",
   "execution_count": 2,
   "id": "ced9a124",
   "metadata": {},
   "outputs": [
    {
     "name": "stdout",
     "output_type": "stream",
     "text": [
      "Enter the name of user ketan\n",
      "hello ketan\n"
     ]
    }
   ],
   "source": [
    "name= input(\"Enter the name of user \")\n",
    "print (\"hello\", name)"
   ]
  },
  {
   "cell_type": "code",
   "execution_count": 11,
   "id": "ce0b0a1c",
   "metadata": {},
   "outputs": [
    {
     "data": {
      "text/plain": [
       "[<matplotlib.lines.Line2D at 0x2a244274d30>]"
      ]
     },
     "execution_count": 11,
     "metadata": {},
     "output_type": "execute_result"
    },
    {
     "data": {
      "image/png": "[encoded data removed]",
      "text/plain": [
       "<Figure size 432x288 with 1 Axes>"
      ]
     },
     "metadata": {
      "needs_background": "light"
     },
     "output_type": "display_data"
    }
   ],
   "source": [
    "import matplotlib.pyplot as plt\n",
    "plt.plot([1,1,2,3,4], [1,1,2,3,4])\n",
    "\n"
   ]
  },
  {
   "cell_type": "code",
   "execution_count": 13,
   "id": "d3fee2f5",
   "metadata": {},
   "outputs": [
    {
     "data": {
      "text/plain": [
       "<function matplotlib.pyplot.show(close=None, block=None)>"
      ]
     },
     "execution_count": 13,
     "metadata": {},
     "output_type": "execute_result"
    }
   ],
   "source": [
    "plt.show"
   ]
  },
  {
   "cell_type": "markdown",
   "id": "947bde70",
   "metadata": {},
   "source": [
    "#Variable start"
   ]
  },
  {
   "cell_type": "code",
   "execution_count": null,
   "id": "a28dc4bf",
   "metadata": {},
   "outputs": [],
   "source": [
    "x = [\"ketan\", \"Salian\", \"nityanan\"]\n",
    "print (x)\n",
    "x.append(\"jakakjs\")\n",
    "print(x)"
   ]
  },
  {
   "cell_type": "markdown",
   "id": "eb201c66",
   "metadata": {},
   "source": [
    "# NUMBER IS PYTHON"
   ]
  },
  {
   "cell_type": "code",
   "execution_count": 28,
   "id": "2195bb26",
   "metadata": {},
   "outputs": [
    {
     "name": "stdout",
     "output_type": "stream",
     "text": [
      "22026.465794806718\n"
     ]
    }
   ],
   "source": [
    "import math\n",
    "x= 10\n",
    "print(math.exp(x))"
   ]
  },
  {
   "cell_type": "code",
   "execution_count": 29,
   "id": "d8274f05",
   "metadata": {},
   "outputs": [
    {
     "data": {
      "text/plain": [
       "3.141592653589793"
      ]
     },
     "execution_count": 29,
     "metadata": {},
     "output_type": "execute_result"
    }
   ],
   "source": [
    "math.pi"
   ]
  },
  {
   "cell_type": "code",
   "execution_count": 24,
   "id": "5b2d38c3",
   "metadata": {},
   "outputs": [
    {
     "ename": "TypeError",
     "evalue": "'float' object is not callable",
     "output_type": "error",
     "traceback": [
      "\u001b[1;31m---------------------------------------------------------------------------\u001b[0m",
      "\u001b[1;31mTypeError\u001b[0m                                 Traceback (most recent call last)",
      "\u001b[1;32m~\\AppData\\Local\\Temp/ipykernel_16188/601008241.py\u001b[0m in \u001b[0;36m<module>\u001b[1;34m\u001b[0m\n\u001b[1;32m----> 1\u001b[1;33m \u001b[0mmath\u001b[0m\u001b[1;33m.\u001b[0m\u001b[0mpi\u001b[0m\u001b[1;33m(\u001b[0m\u001b[0mx\u001b[0m\u001b[1;33m)\u001b[0m\u001b[1;33m\u001b[0m\u001b[1;33m\u001b[0m\u001b[0m\n\u001b[0m",
      "\u001b[1;31mTypeError\u001b[0m: 'float' object is not callable"
     ]
    }
   ],
   "source": []
  },
  {
   "cell_type": "code",
   "execution_count": 25,
   "id": "5967e417",
   "metadata": {},
   "outputs": [
    {
     "name": "stdout",
     "output_type": "stream",
     "text": [
      "3.1622776601683795\n"
     ]
    }
   ],
   "source": [
    "print(math.sqrt(x))"
   ]
  },
  {
   "cell_type": "markdown",
   "id": "92d38805",
   "metadata": {},
   "source": [
    "# creat the list\n",
    "        "
   ]
  },
  {
   "cell_type": "markdown",
   "id": "d8c37555",
   "metadata": {},
   "source": []
  },
  {
   "cell_type": "code",
   "execution_count": null,
   "id": "7a48e34f",
   "metadata": {},
   "outputs": [],
   "source": [
    "# Lists are used to store multiple items in a single variable."
   ]
  },
  {
   "cell_type": "markdown",
   "id": "bdc74b56",
   "metadata": {},
   "source": [
    "# Access Items\n",
    "<!-- List items are indexed and you can access them by referring to the index number: -->\n"
   ]
  },
  {
   "cell_type": "code",
   "execution_count": 10,
   "id": "bf7a14d9",
   "metadata": {},
   "outputs": [
    {
     "name": "stdout",
     "output_type": "stream",
     "text": [
      "3\n",
      "6\n",
      "[3, 4, 6]\n"
     ]
    }
   ],
   "source": [
    "ls=[1,2,3,4,6,6]\n",
    "\n",
    "x=ls[2]                 #ACCess the Item\n",
    "x1=ls[-1]               #Negative indexing means start from the end\n",
    "x2=(ls[2:5])             #Range of Indexes\n",
    "print(x)\n",
    "print(x1)\n",
    "print(x2)"
   ]
  },
  {
   "cell_type": "code",
   "execution_count": 1,
   "id": "b551d222",
   "metadata": {},
   "outputs": [
    {
     "name": "stdout",
     "output_type": "stream",
     "text": [
      "1\n",
      "[2, 3, 4, 5, 6, 7]\n"
     ]
    }
   ],
   "source": [
    "#If the number of variables is less than the number of values, you can add an * to the variable name and \n",
    "#the values will be assigned to the variable as a list:\n",
    "x =[1,2,3,4,5,6,7] #variables\n",
    "(don,  *rock)=x #inside the bracket is value then we use the *\n",
    "print (don)\n",
    "print (rock)"
   ]
  },
  {
   "cell_type": "code",
   "execution_count": 1,
   "id": "aa78e2b8",
   "metadata": {},
   "outputs": [
    {
     "name": "stdout",
     "output_type": "stream",
     "text": [
      "['apple', 'banana', 'mango']\n"
     ]
    }
   ],
   "source": [
    "#With list comprehension you can do all that with only one line of code:\n",
    "#newlist = [expression for item in iterable if condition == True]\n",
    "fruits = [\"apple\", \"banana\", \"cherry\", \"kiwi\", \"mango\"]\n",
    "\n",
    "newlist = [x for x in fruits if \"a\" in x]\n",
    "\n",
    "print(newlist)"
   ]
  },
  {
   "cell_type": "code",
   "execution_count": 2,
   "id": "1cd9fae2",
   "metadata": {},
   "outputs": [
    {
     "data": {
      "text/plain": [
       "['k', 'e', 't', 'a', 'n', ' ', 's', 'a', 'l', 'i', 'a', 'n']"
      ]
     },
     "execution_count": 2,
     "metadata": {},
     "output_type": "execute_result"
    }
   ],
   "source": [
    " list(\"ketan salian\") # this use to seprate the element in the list\n"
   ]
  },
  {
   "cell_type": "markdown",
   "id": "5488be33",
   "metadata": {},
   "source": [
    "# Methods in LIST"
   ]
  },
  {
   "cell_type": "code",
   "execution_count": null,
   "id": "06a097cf",
   "metadata": {},
   "outputs": [],
   "source": [
    "Method\tDescription\n",
    "append()\tAdds an element at the end of the list\n",
    "clear()\tRemoves all the elements from the list\n",
    "copy()\tReturns a copy of the list\n",
    "count()\tReturns the number of elements with the specified value\n",
    "extend()\tAdd the elements of a list (or any iterable), to the end of the current list\n",
    "index()\tReturns the index of the first element with the specified value\n",
    "insert()\tAdds an element at the specified position\n",
    "pop()\tRemoves the element at the specified position\n",
    "remove()\tRemoves the item with the specified value\n",
    "reverse()\tReverses the order of the list\n",
    "sort()\tSorts the list"
   ]
  },
  {
   "cell_type": "markdown",
   "id": "32c20bcf",
   "metadata": {},
   "source": [
    "# Now we starting the tuple"
   ]
  },
  {
   "cell_type": "code",
   "execution_count": null,
   "id": "d6856c8a",
   "metadata": {},
   "outputs": [],
   "source": [
    "\n",
    "x =\"ketan\",\n",
    "print(x,type(x))"
   ]
  },
  {
   "cell_type": "code",
   "execution_count": null,
   "id": "da88f0c3",
   "metadata": {},
   "outputs": [],
   "source": [
    "x=(\"ketan \")\n",
    "print(x*10)"
   ]
  },
  {
   "cell_type": "code",
   "execution_count": null,
   "id": "7c52788d",
   "metadata": {},
   "outputs": [],
   "source": [
    "x=(\"ketan\",\"salian\",\"nityanan\")#There is the onother way to conver the tuple in list\n",
    "y = list(x)\n",
    "y[1]=\"jalaja\"\n",
    "x=tuple(y)\n",
    "print(x)\n",
    "\n"
   ]
  },
  {
   "cell_type": "code",
   "execution_count": null,
   "id": "668cb044",
   "metadata": {},
   "outputs": [],
   "source": [
    "num = [(1,2,3,4,5)]\n",
    "num.append(( \"ketan \", 'salian '))\n",
    "print(num)"
   ]
  },
  {
   "cell_type": "markdown",
   "id": "9b731b1f",
   "metadata": {},
   "source": [
    "#Tuple have to inbulit method\n",
    "count()\n",
    "index()"
   ]
  },
  {
   "cell_type": "markdown",
   "id": "a1cffc39",
   "metadata": {},
   "source": [
    "# String place holder using format"
   ]
  },
  {
   "cell_type": "code",
   "execution_count": null,
   "id": "fbe5a552",
   "metadata": {},
   "outputs": [],
   "source": [
    "x =\"hey\"\n",
    "y = \"there\"\n",
    "z= \"all\"\n",
    "a = ((x), (y), (z))\n",
    "print(a)"
   ]
  },
  {
   "cell_type": "markdown",
   "id": "95ed324f",
   "metadata": {},
   "source": [
    "# Now We will use the Dictinaries, Set\n",
    "#What is Dictinaries is the unordered Collection of data stored as a pair of Key and Value\n",
    "    "
   ]
  },
  {
   "cell_type": "code",
   "execution_count": 3,
   "id": "6c6da7c4",
   "metadata": {},
   "outputs": [
    {
     "name": "stdout",
     "output_type": "stream",
     "text": [
      "{'ford': 'mastand', 'colore': 'red', 'build': 1992, 'node': 'ketab'}\n"
     ]
    }
   ],
   "source": [
    "x ={\"ford\":'mastand',\n",
    "    \"colore\":\"red\",\n",
    "    \"build\" : 1992}\n",
    "x.update({\"node\" : \"ketab\"})\n",
    "print(x)"
   ]
  },
  {
   "cell_type": "code",
   "execution_count": null,
   "id": "f313fab5",
   "metadata": {},
   "outputs": [],
   "source": [
    "y=({1:\"ketab\", 2:\"salian\"})\n",
    "print(y)"
   ]
  },
  {
   "cell_type": "code",
   "execution_count": 4,
   "id": "adec36f1",
   "metadata": {},
   "outputs": [
    {
     "name": "stdout",
     "output_type": "stream",
     "text": [
      "[(1, 'ketan', 2, 'salian')] <class 'list'>\n"
     ]
    }
   ],
   "source": [
    "z=([(1,\"ketan\", 2, \"salian\")])#WE ARE USING THE TUPLE IN THE LIST AND CREATE THE DICTINARIES.BUT WE NOT USING:\n",
    "print(z, type(z))"
   ]
  },
  {
   "cell_type": "code",
   "execution_count": null,
   "id": "521c73f7",
   "metadata": {},
   "outputs": [],
   "source": [
    "#NESTED dic\n",
    "sam={\"name\":{\"first\":\"ketan\",\"surname\":\"salian\"},\"age\":29}\n",
    "print(sam)\n"
   ]
  },
  {
   "cell_type": "code",
   "execution_count": null,
   "id": "1b22cdfb",
   "metadata": {},
   "outputs": [],
   "source": [
    "sam"
   ]
  },
  {
   "cell_type": "code",
   "execution_count": null,
   "id": "2833ee79",
   "metadata": {},
   "outputs": [],
   "source": [
    "print (sam[\"name\"])#Accessing value"
   ]
  },
  {
   "cell_type": "code",
   "execution_count": 8,
   "id": "e6e466f8",
   "metadata": {},
   "outputs": [],
   "source": [
    "sam={\"name\":{\"first\":\"ketan\",\"surname\":\"salian\"},\"age\":29}"
   ]
  },
  {
   "cell_type": "code",
   "execution_count": 9,
   "id": "b8ffa5df",
   "metadata": {},
   "outputs": [
    {
     "name": "stdout",
     "output_type": "stream",
     "text": [
      "('age', 29)\n"
     ]
    }
   ],
   "source": [
    "print(sam.popitem())# the popitem call the last cell value"
   ]
  },
  {
   "cell_type": "code",
   "execution_count": 10,
   "id": "a737d178",
   "metadata": {},
   "outputs": [
    {
     "name": "stdout",
     "output_type": "stream",
     "text": [
      "kea\n"
     ]
    }
   ],
   "source": [
    "sam\n",
    "print(sam.setdefault(\"age\",\"kea\"))#WE cahnge the value Using the setdefault"
   ]
  },
  {
   "cell_type": "code",
   "execution_count": null,
   "id": "6ff1bbc1",
   "metadata": {},
   "outputs": [],
   "source": [
    "#A variable is only available from inside the region it is created. This is called scope.\n",
    "def myfunc():\n",
    "  x = 300\n",
    "  print(x)\n",
    "\n",
    "myfunc()"
   ]
  },
  {
   "cell_type": "code",
   "execution_count": null,
   "id": "8ca0a4ef",
   "metadata": {},
   "outputs": [],
   "source": [
    "#Now we creat the SET\n",
    "Set is the unorder collection of unique element it can no be print the diplucate value or caracter"
   ]
  },
  {
   "cell_type": "code",
   "execution_count": null,
   "id": "45fc0647",
   "metadata": {},
   "outputs": [],
   "source": [
    "x={1,2,2,2,3,\"c\",\"k\",\"c\"}#did't use the duplet value or chr\n",
    "print(x)"
   ]
  },
  {
   "cell_type": "code",
   "execution_count": null,
   "id": "ec4e06ca",
   "metadata": {},
   "outputs": [],
   "source": [
    "s1={1,2,3,4}\n",
    "s2={5,2,6,7,5}\n",
    "s1.intersection(s2)"
   ]
  },
  {
   "cell_type": "markdown",
   "id": "1e954a4f",
   "metadata": {},
   "source": [
    "# IF ELIF AND ELSE"
   ]
  },
  {
   "cell_type": "code",
   "execution_count": null,
   "id": "9d39b33e",
   "metadata": {},
   "outputs": [],
   "source": [
    "x = 42\n",
    "if x % 2==0:\n",
    "    if x > 3:\n",
    "     print(\"yes odd\")# Nested if statement\n",
    "else:\n",
    "    print(\"no '' even\")\n",
    "     "
   ]
  },
  {
   "cell_type": "code",
   "execution_count": null,
   "id": "7683a98e",
   "metadata": {},
   "outputs": [],
   "source": [
    "\n",
    "    #if elif "
   ]
  },
  {
   "cell_type": "code",
   "execution_count": null,
   "id": "b2931136",
   "metadata": {},
   "outputs": [],
   "source": [
    "a = 200\n",
    "b = 33\n",
    "if b > a:\n",
    "  print(\"b is greater than a\")\n",
    "elif a == b:\n",
    "  print(\"a and b are equal\")\n",
    "else:\n",
    "  print(\"a is greater than b\")"
   ]
  },
  {
   "cell_type": "code",
   "execution_count": null,
   "id": "f676017c",
   "metadata": {},
   "outputs": [],
   "source": [
    "#Loops"
   ]
  },
  {
   "cell_type": "code",
   "execution_count": 4,
   "id": "fdfac494",
   "metadata": {},
   "outputs": [
    {
     "name": "stdout",
     "output_type": "stream",
     "text": [
      "its is the mul of 7\n"
     ]
    }
   ],
   "source": [
    "v = int(input(\"Enter the no that milt 7=\"))\n",
    "while v % 7 !=0 :\n",
    "    v= int(input(\"Enter the no that milt 7=\"))\n",
    "    \n",
    "else :\n",
    "    print(\"its is the mul of 7\")\n"
   ]
  },
  {
   "cell_type": "code",
   "execution_count": null,
   "id": "5ba0ebd7",
   "metadata": {},
   "outputs": [],
   "source": [
    "i = [\"k\", \"etann\", 2 , 3]\n",
    "for x in i:\n",
    "    print([i])"
   ]
  },
  {
   "cell_type": "code",
   "execution_count": null,
   "id": "19fd3890",
   "metadata": {},
   "outputs": [],
   "source": [
    "#A lambda function is a small anonymous function.\n",
    "\n",
    "#A lambda function can take any number of arguments, but can only have one expression."
   ]
  },
  {
   "cell_type": "code",
   "execution_count": null,
   "id": "7b21fbe0",
   "metadata": {},
   "outputs": [],
   "source": [
    "i = lambda a , b,c : a*b+c\n",
    "print(2*5+2)"
   ]
  },
  {
   "cell_type": "code",
   "execution_count": null,
   "id": "d6f3085c",
   "metadata": {},
   "outputs": [],
   "source": [
    "x =([1,2,3], [\"a\", \"b\", \"c\"])#nested\n",
    "for i in x:\n",
    "    for j in i:\n",
    "        print(j, end =\" \")"
   ]
  },
  {
   "cell_type": "markdown",
   "id": "9183a494",
   "metadata": {},
   "source": [
    "# BREAK\n",
    "TRANSFERS CONTROL STATEMENT RIGHT AFTER THE LOOP."
   ]
  },
  {
   "cell_type": "code",
   "execution_count": 17,
   "id": "37238a96",
   "metadata": {},
   "outputs": [
    {
     "name": "stdout",
     "output_type": "stream",
     "text": [
      "hey there"
     ]
    }
   ],
   "source": [
    "x = \"hey there. how are you\"\n",
    "for i in x :\n",
    "        if i == \".\":\n",
    "          break\n",
    "        print(i, end=\"\")\n"
   ]
  },
  {
   "cell_type": "code",
   "execution_count": null,
   "id": "57e616c4",
   "metadata": {},
   "outputs": [],
   "source": [
    "y = (1, 2, 3, 52, 47, 6, 89, 5)#Skips the statement following it and return the control to the beginning of the loops\n",
    "for b in y:\n",
    "    if b <= 10:\n",
    "        continue\n",
    "    print(b)"
   ]
  },
  {
   "cell_type": "code",
   "execution_count": null,
   "id": "8335993f",
   "metadata": {},
   "outputs": [],
   "source": [
    "#For loops is used to iterate over a sequece, which could be a list tuple, array or a srting\n",
    "for(key work)x(x counterin my case is just the variable keep track the possion that we track in (follow by sequence name of our list T R s:))"
   ]
  },
  {
   "cell_type": "code",
   "execution_count": 1,
   "id": "3acfc441",
   "metadata": {},
   "outputs": [
    {
     "name": "stdout",
     "output_type": "stream",
     "text": [
      "ketann23"
     ]
    }
   ],
   "source": [
    "i = (\"k\", \"etann\", 2 , 3)\n",
    "for x in i:\n",
    "    print(x, end='')"
   ]
  },
  {
   "cell_type": "code",
   "execution_count": 2,
   "id": "033123e4",
   "metadata": {},
   "outputs": [
    {
     "name": "stdout",
     "output_type": "stream",
     "text": [
      "0\n",
      "2\n",
      "4\n",
      "6\n",
      "8\n",
      "10\n"
     ]
    }
   ],
   "source": [
    "for i in range(0, 11):\n",
    "    if i % 2==0 :\n",
    "        print(i)"
   ]
  },
  {
   "cell_type": "code",
   "execution_count": 18,
   "id": "7379fe84",
   "metadata": {},
   "outputs": [
    {
     "name": "stdout",
     "output_type": "stream",
     "text": [
      "1\n",
      "2\n",
      "3\n",
      "4\n"
     ]
    }
   ],
   "source": [
    "x=[1,2,3,4,5]\n",
    "for i in range(1,5):\n",
    "    print(i)"
   ]
  },
  {
   "cell_type": "code",
   "execution_count": 14,
   "id": "3012c15a",
   "metadata": {},
   "outputs": [
    {
     "name": "stdout",
     "output_type": "stream",
     "text": [
      "2\n",
      "4\n",
      "6\n",
      "8\n",
      "10\n",
      "12\n",
      "14\n",
      "16\n",
      "18\n",
      "20\n"
     ]
    }
   ],
   "source": [
    "#two a even no with out using if\n",
    "for i in range(2, 21,2):#range(start, stop, step)\n",
    " print(i)"
   ]
  },
  {
   "cell_type": "code",
   "execution_count": 14,
   "id": "6cf42ea9",
   "metadata": {},
   "outputs": [
    {
     "name": "stdout",
     "output_type": "stream",
     "text": [
      "2\n",
      "4\n",
      "6\n",
      "8\n",
      "10\n",
      "12\n",
      "14\n",
      "16\n",
      "18\n",
      "20\n"
     ]
    }
   ],
   "source": [
    "x = 0\n",
    "for x in range (2, 22):range(start, stop)\n",
    "    if x%2==0:\n",
    "        x=x\n",
    "        print(x)"
   ]
  },
  {
   "cell_type": "code",
   "execution_count": 16,
   "id": "57e21bdc",
   "metadata": {},
   "outputs": [
    {
     "name": "stdout",
     "output_type": "stream",
     "text": [
      "Enter the value5\n",
      "1  \n",
      "1 2  \n",
      "1 2 3  \n",
      "1 2 3 4  \n",
      "1 2 3 4 5  \n"
     ]
    }
   ],
   "source": [
    "# For print the patten we are using the \n",
    "num=int(input(\"Enter the value\"))#nestted for \n",
    "for i in range (1, num+1):\n",
    "    for j in range (1,i+1):\n",
    "        print(j, end=\" \")\n",
    "        \n",
    "    print(\" \")"
   ]
  },
  {
   "cell_type": "code",
   "execution_count": 15,
   "id": "e993a14c",
   "metadata": {},
   "outputs": [
    {
     "name": "stdout",
     "output_type": "stream",
     "text": [
      "\n",
      "*\n",
      "**\n",
      "***\n"
     ]
    }
   ],
   "source": [
    "for x in range(4):\n",
    "    for y in range(x):\n",
    "        print(\"*\", end=\"\")\n",
    "    print()\n",
    "    "
   ]
  },
  {
   "cell_type": "code",
   "execution_count": 16,
   "id": "d0003d91",
   "metadata": {},
   "outputs": [
    {
     "name": "stdout",
     "output_type": "stream",
     "text": [
      "enter the rows no: 2\n",
      "enter the  coloms no: 2\n",
      "Enter the 0 * 0 num 1\n",
      "Enter the 0 * 1 num 2\n",
      "Enter the 1 * 0 num 1\n",
      "Enter the 1 * 1 num 2\n",
      "Enter the 0 * 0 num 1\n",
      "Enter the 0 * 1 num 2\n",
      "Enter the 1 * 0 num 1\n",
      "Enter the 1 * 1 num 2\n",
      "[[2]]\n",
      "[[4], [2]]\n",
      "[[4], [2], [2]]\n",
      "[[4], [4], [2], [2]]\n"
     ]
    }
   ],
   "source": [
    "#Access the nested element from the matrix,we use list containing  list and sum of two number\n",
    "a=int(input(\"enter the rows no: \"))\n",
    "b=int(input(\"enter the  coloms no: \"))\n",
    "c=[]\n",
    "v=[]\n",
    "for i in range(0,a):\n",
    "    for j in  range (0,b):\n",
    "        v.insert(j,int(input(\"Enter the %d * %d num \" %(i,j))))#%d * %d is the place holder\n",
    "    c.insert(i,v)\n",
    "    v=[]\n",
    "d=[]\n",
    "for i in  range(0,a):\n",
    "    for j in  range(0,b):\n",
    "        v.insert(j,int(input(\"Enter the %d * %d num \"  %(i,j))))\n",
    "    d.insert(i,v)\n",
    "    v=[]\n",
    "sum=[]\n",
    "for i in range(0,a):\n",
    "     for j in  range(0,b):\n",
    "        v.insert(j, c[i][j] + d[i] [j]) \n",
    "        sum.insert(i, v) \n",
    "        v=[] \n",
    "        print(sum)\n",
    "        \n",
    "    \n"
   ]
  },
  {
   "cell_type": "code",
   "execution_count": null,
   "id": "7bac2569",
   "metadata": {},
   "outputs": [],
   "source": [
    "#While  loop to repeat a sections of code unknown number of time until a specific condition is met"
   ]
  },
  {
   "cell_type": "code",
   "execution_count": 5,
   "id": "24335568",
   "metadata": {},
   "outputs": [
    {
     "name": "stdout",
     "output_type": "stream",
     "text": [
      "9 =ketan\n",
      "8 =ketan\n",
      "7 =ketan\n",
      "6 =ketan\n",
      "5 =ketan\n",
      "4 =ketan\n",
      "3 =ketan\n",
      "2 =ketan\n",
      "1 =ketan\n",
      "0 =ketan\n",
      "-1 =ketan\n"
     ]
    }
   ],
   "source": [
    "i = 10\n",
    "while i>=0 :\n",
    "    i=i-1 # if we use the + then it will print sequence\n",
    "    print(i, \"=\" \"ketan\")"
   ]
  },
  {
   "cell_type": "code",
   "execution_count": 4,
   "id": "940d72ca",
   "metadata": {},
   "outputs": [
    {
     "name": "stdout",
     "output_type": "stream",
     "text": [
      "55\n"
     ]
    }
   ],
   "source": [
    "#Find the sum of 10\n",
    "x=1\n",
    "su=0\n",
    "while x<=10:\n",
    "    su=su+x\n",
    "    x+=1\n",
    "print(su)"
   ]
  },
  {
   "cell_type": "code",
   "execution_count": null,
   "id": "252e25a7",
   "metadata": {},
   "outputs": [],
   "source": [
    "# Program to reverse the digits of a number literally\n",
    "# Input  = 1234\n",
    "# Output = 4321"
   ]
  },
  {
   "cell_type": "code",
   "execution_count": null,
   "id": "89806b6e",
   "metadata": {},
   "outputs": [],
   "source": [
    "#Find the sum of even no\n",
    "x=1\n",
    "su=0\n",
    "while x<=10:\n",
    "    if x%2==0:\n",
    "         su=su+x\n",
    "    x+=1\n",
    "print(su)"
   ]
  },
  {
   "cell_type": "code",
   "execution_count": null,
   "id": "73c02399",
   "metadata": {},
   "outputs": [],
   "source": [
    "x = int(input(\"Enter the number Will b reverse:\"))\n",
    "\n",
    "r = 0\n",
    "\n",
    "while x > 0:\n",
    "    y = x % 10             # Its extract the last digits\n",
    "    r = r * 10 + y   # append rem to the end of the reversed number\n",
    "    x //=10            # drop the last digit\n",
    "print (r)"
   ]
  },
  {
   "cell_type": "code",
   "execution_count": null,
   "id": "3fef7180",
   "metadata": {},
   "outputs": [],
   "source": [
    "num = int(input(\"Enter a number: \\n\"))\n",
    "\n",
    "reverse = 0\n",
    "\n",
    "while num %10 !=0:\n",
    "    rem = num % 10                  # extract the last digit\n",
    "    reverse = reverse * 10 + rem    # append rem to the end of the reversed number\n",
    "    num //= 10                      # drop the last digit\n",
    "\n",
    "print(\"Reversed number: \", reverse)"
   ]
  },
  {
   "cell_type": "code",
   "execution_count": null,
   "id": "ab21a5a3",
   "metadata": {},
   "outputs": [],
   "source": [
    "#calculate the lenght of the list without using lenght funtion\n"
   ]
  },
  {
   "cell_type": "code",
   "execution_count": 8,
   "id": "d00dc84c",
   "metadata": {},
   "outputs": [
    {
     "name": "stdout",
     "output_type": "stream",
     "text": [
      "4\n"
     ]
    }
   ],
   "source": [
    "x =[1,2,\"ketan\",\"jsh\",5]\n",
    "le=0\n",
    "i=1\n",
    "try:\n",
    "    while x[i]:\n",
    "        le=le+1\n",
    "        i=i+1\n",
    "except IndexError:\n",
    "    print(le)\n",
    "        \n",
    "        "
   ]
  },
  {
   "cell_type": "code",
   "execution_count": null,
   "id": "c96c6adb",
   "metadata": {},
   "outputs": [],
   "source": [
    "#nested patten"
   ]
  },
  {
   "cell_type": "code",
   "execution_count": 17,
   "id": "c4036043",
   "metadata": {},
   "outputs": [
    {
     "name": "stdout",
     "output_type": "stream",
     "text": [
      "enter the no= 5\n",
      "2 2 \n",
      "3 3 3 \n",
      "4 4 4 4 \n",
      "5 5 5 5 5 \n",
      "6 6 6 6 6 6 \n"
     ]
    }
   ],
   "source": [
    "x=int(input(\"enter the no= \"))\n",
    "y=1\n",
    "while y<=x:\n",
    "    z=1\n",
    "    y+=1\n",
    "    while z<=y:\n",
    "        print(y, end=\" \")\n",
    "        z+=1\n",
    "   \n",
    "    print()\n",
    "    "
   ]
  },
  {
   "cell_type": "code",
   "execution_count": null,
   "id": "f498f1a2",
   "metadata": {},
   "outputs": [],
   "source": [
    "Program will genrate 4 digit num using random function and user need to gusse the altast one corrct no"
   ]
  },
  {
   "cell_type": "code",
   "execution_count": null,
   "id": "84c5c8b8",
   "metadata": {},
   "outputs": [],
   "source": [
    "import random #its yous to find the random no\n",
    "num=random.randint(100,999)\n",
    "gus=int(input(\"Enter a 3 degit number\")) #user put the no\n",
    "\n",
    "while num!=10: #its help to quit the box\n",
    "    nu= num # its call the num\n",
    "    cor=0 # its the correct colume\n",
    "    while nu%10:   #every time me do mode  10 it will extract the last digit if the no mode 10 dn,t hve any tig 2 rtn ta its empty\n",
    "        np=nu%10    #Extracting the number\n",
    "        nc = gus%10 #its gusses by the user\n",
    "        nu=nu//10 #its return the value\n",
    "        gus=gus//10\n",
    "        if num==nc:\n",
    "            cor=cor+1\n",
    "    if cor==3:\n",
    "        print(\"the guss is the correct number\")\n",
    "        break\n",
    "    else:\n",
    "        print(\"%d digts the guss right\"%cor)# we %D is that how many digit is gusses right\n",
    "        gus=int(input(\"Enter a 3 degit number\")) #user put the no\n",
    "        \n",
    "else:\n",
    "    print(\"Quit from the box\")\n",
    "    \n"
   ]
  },
  {
   "cell_type": "code",
   "execution_count": null,
   "id": "d3140726",
   "metadata": {},
   "outputs": [
    {
     "name": "stdout",
     "output_type": "stream",
     "text": [
      "8\n"
     ]
    }
   ],
   "source": [
    "import random\n",
    "ran=random.randrange(1,10)\n",
    "print(ran)\n",
    "gus=int(input(\"Enter the correct no\"))\n",
    "while gus!=ran:\n",
    "    if gus<ran:\n",
    "        print(\"its to low\")\n",
    "        gus = int(input(\"enter the no again\"))\n",
    "    else:\n",
    "        print(\"its to low\")\n",
    "        gus = int(input(\"enter the no again\"))\n",
    "print(\"your gus is right\")\n",
    "        \n",
    "        \n"
   ]
  },
  {
   "cell_type": "code",
   "execution_count": null,
   "id": "dc3e44a2",
   "metadata": {},
   "outputs": [],
   "source": [
    "import random\n",
    "random_number = random.randint(1, 10)\n",
    "print(random_number)\n",
    "guess =0\n",
    "while guess != random_number:\n",
    "     guess = int(input('Guess a number between 1 and {x}: '))\n",
    "     if guess < random_number:\n",
    "         print('Sorry, guess again. Too low.')\n",
    "     elif guess > random_number:\n",
    "           print('Sorry, guess again. Too high.')\n",
    "\n",
    "     print('Yay, congrats. You have guessed the number {random_number} correctly!!')"
   ]
  },
  {
   "cell_type": "code",
   "execution_count": null,
   "id": "a7eef6a1",
   "metadata": {},
   "outputs": [],
   "source": [
    "#ARRAY\n",
    "Array is the container that hold the value of same typ"
   ]
  },
  {
   "cell_type": "code",
   "execution_count": 10,
   "id": "35799692",
   "metadata": {},
   "outputs": [
    {
     "name": "stdout",
     "output_type": "stream",
     "text": [
      "array('I', [1, 2, 3])\n"
     ]
    }
   ],
   "source": [
    "from array import*\n",
    "are= array('I',[1,2,3,])\n",
    "print(are)"
   ]
  },
  {
   "cell_type": "code",
   "execution_count": 15,
   "id": "3f6e03b2",
   "metadata": {},
   "outputs": [
    {
     "name": "stdout",
     "output_type": "stream",
     "text": [
      "array('I', [1, 2, 3, 5, 5, 5, 4])\n"
     ]
    }
   ],
   "source": [
    "are.append(4)\n",
    "print(are)"
   ]
  },
  {
   "cell_type": "code",
   "execution_count": 16,
   "id": "7ad2812c",
   "metadata": {},
   "outputs": [
    {
     "name": "stdout",
     "output_type": "stream",
     "text": [
      "3\n"
     ]
    }
   ],
   "source": [
    "print(are[2])"
   ]
  },
  {
   "cell_type": "code",
   "execution_count": 10,
   "id": "3b549893",
   "metadata": {},
   "outputs": [
    {
     "name": "stdout",
     "output_type": "stream",
     "text": [
      "Enter the number in array = 5\n",
      "Enter the number 5\n",
      "1\n",
      "2\n",
      "2\n",
      "2\n",
      "4\n",
      "array('i', [1, 2, 2, 2, 4])\n"
     ]
    }
   ],
   "source": [
    "from array import*\n",
    "arr=array(\"i\",[])\n",
    "\n",
    "x = int(input(\"Enter the number in array = \"))\n",
    "print(\"Enter the number %d\" %x)\n",
    "for i in range(x):\n",
    "    s=int(input())\n",
    "    arr.append(s)\n",
    "    \n",
    "    \n",
    "print(arr)\n",
    "\n",
    "\n"
   ]
  },
  {
   "cell_type": "code",
   "execution_count": null,
   "id": "7cb9be00",
   "metadata": {},
   "outputs": [],
   "source": [
    "#Functions\n",
    "A functions is the set of code that perform some task"
   ]
  },
  {
   "cell_type": "code",
   "execution_count": 3,
   "id": "89a5d557",
   "metadata": {},
   "outputs": [
    {
     "name": "stdout",
     "output_type": "stream",
     "text": [
      "hello\n"
     ]
    }
   ],
   "source": [
    "def calss ():\n",
    "    print(\"hello\")\n",
    "calss()"
   ]
  },
  {
   "cell_type": "code",
   "execution_count": 41,
   "id": "6ca07db1",
   "metadata": {},
   "outputs": [
    {
     "name": "stdout",
     "output_type": "stream",
     "text": [
      "a:3    b:2 \n",
      "Add the element 5\n",
      "a:10    b:20 \n",
      "Add the element 30\n",
      "<function add at 0x0000029AC38D64C0>\n"
     ]
    }
   ],
   "source": [
    "def add (a, b):\n",
    "  x=a+b\n",
    "  print(\"a:%d    b:%d \"%(a,b))\n",
    "  \n",
    "  print(\"Add the element\",x)\n",
    "add(b=2,a=3)#You can also send arguments with the key = value syntax.\n",
    "c=10\n",
    "d=20\n",
    "add(c,d)\n",
    "print(add)"
   ]
  },
  {
   "cell_type": "code",
   "execution_count": 19,
   "id": "97d97766",
   "metadata": {},
   "outputs": [
    {
     "name": "stdout",
     "output_type": "stream",
     "text": [
      "8\n"
     ]
    }
   ],
   "source": [
    "def add (a,b):\n",
    "    print(a+b)\n",
    "add(3,5)"
   ]
  },
  {
   "cell_type": "code",
   "execution_count": 43,
   "id": "4cec79f4",
   "metadata": {},
   "outputs": [
    {
     "name": "stdout",
     "output_type": "stream",
     "text": [
      "10\n"
     ]
    }
   ],
   "source": [
    "#using the list * we can use multipal of number\n",
    "def add (*a):#Arbitrary Arguments, *args\n",
    "    x=0\n",
    "    for i in a:#We using the for loop to itrate the value\n",
    "        x=x+i\n",
    "    print(x)\n",
    "    \n",
    "add(2,2,2,2,2)"
   ]
  },
  {
   "cell_type": "code",
   "execution_count": 50,
   "id": "65754079",
   "metadata": {},
   "outputs": [
    {
     "name": "stdout",
     "output_type": "stream",
     "text": [
      "What is your name?=  Ketan\n"
     ]
    }
   ],
   "source": [
    "def adds(**a):\n",
    "    print(\"What is your name?= \",a[\"name\"])\n",
    "adds(num=\"keten\",name=\"Ketan\")"
   ]
  },
  {
   "cell_type": "code",
   "execution_count": null,
   "id": "e4fb8e2b",
   "metadata": {},
   "outputs": [],
   "source": [
    "#Recursion is a common mathematical and programming concept. It means that a function calls itself. \n",
    "This has the benefit of meaning that you can loop through data to reach a result."
   ]
  },
  {
   "cell_type": "code",
   "execution_count": 61,
   "id": "3e4f4a17",
   "metadata": {},
   "outputs": [
    {
     "name": "stdout",
     "output_type": "stream",
     "text": [
      "1\n",
      "3\n",
      "6\n",
      "10\n",
      "15\n",
      "21\n"
     ]
    },
    {
     "data": {
      "text/plain": [
       "21"
      ]
     },
     "execution_count": 61,
     "metadata": {},
     "output_type": "execute_result"
    }
   ],
   "source": [
    "def recur(n):\n",
    "    if n>0:\n",
    "        result = n + recur(n - 1)\n",
    "        print(result)\n",
    "    else:\n",
    "        result = 0\n",
    "    return result\n",
    "recur(6)\n",
    "    \n",
    "        "
   ]
  },
  {
   "cell_type": "code",
   "execution_count": 1,
   "id": "3a0e7d53",
   "metadata": {},
   "outputs": [
    {
     "name": "stdout",
     "output_type": "stream",
     "text": [
      "720\n"
     ]
    }
   ],
   "source": [
    "#Using the recurtion find factrol\n",
    "\n",
    "def fact(x):\n",
    "    if x== 0:\n",
    "        return 1\n",
    "    return  x * fact(x-1)\n",
    "        \n",
    "print(fact(6))"
   ]
  },
  {
   "cell_type": "code",
   "execution_count": 5,
   "id": "faab8c28",
   "metadata": {},
   "outputs": [
    {
     "name": "stdout",
     "output_type": "stream",
     "text": [
      "enter the fact no=6\n"
     ]
    },
    {
     "data": {
      "text/plain": [
       "720"
      ]
     },
     "execution_count": 5,
     "metadata": {},
     "output_type": "execute_result"
    }
   ],
   "source": [
    "import math\n",
    "x=int(input(\"enter the fact no=\"))\n",
    "math.factorial(x)"
   ]
  },
  {
   "cell_type": "code",
   "execution_count": 12,
   "id": "90794296",
   "metadata": {},
   "outputs": [],
   "source": [
    "#json file in python\n",
    "#JSON is a syntax for storing and exchanging data.\n",
    "\n",
    "#JSON is text, written with JavaScript object notation."
   ]
  },
  {
   "cell_type": "code",
   "execution_count": 5,
   "id": "8eec6e86",
   "metadata": {},
   "outputs": [
    {
     "name": "stdout",
     "output_type": "stream",
     "text": [
      "{\"name\": \"John\", \"age\": 30, \"city\": \"New York\"}\n"
     ]
    }
   ],
   "source": [
    "import json\n",
    "## a Python object (dict):\n",
    "x={\"name\":\"John\",\n",
    "   \"age\":30,\n",
    "   \"city\":\"New York\"}\n",
    "# convert into JSON:\n",
    "y = json.dumps(x)\n",
    "print(y)\n"
   ]
  },
  {
   "cell_type": "code",
   "execution_count": 3,
   "id": "49e6a8bf",
   "metadata": {},
   "outputs": [
    {
     "name": "stdout",
     "output_type": "stream",
     "text": [
      "30\n"
     ]
    }
   ],
   "source": [
    "import json\n",
    "\n",
    "# some JSON:\n",
    "x =  '{ \"name\":\"John\", \"age\":30, \"city\":\"New York\"}'#when we use the load json we close the dict by coma\n",
    "\n",
    "# parse x:\n",
    "y = json.loads(x)\n",
    "\n",
    "# the result is a Python dictionary:\n",
    "print(y[\"age\"])"
   ]
  },
  {
   "cell_type": "code",
   "execution_count": 12,
   "id": "b90a96c8",
   "metadata": {},
   "outputs": [
    {
     "name": "stdout",
     "output_type": "stream",
     "text": [
      "{\n",
      "    \"name\" = \"John\". \n",
      "    \"age\" = 30. \n",
      "    \"married\" = true. \n",
      "    \"divorced\" = false. \n",
      "    \"children\" = [\n",
      "        \"Ann\". \n",
      "        \"Billy\"\n",
      "    ]. \n",
      "    \"pets\" = null. \n",
      "    \"cars\" = [\n",
      "        {\n",
      "            \"model\" = \"BMW 230\". \n",
      "            \"mpg\" = 27.5\n",
      "        }. \n",
      "        {\n",
      "            \"model\" = \"Ford Edge\". \n",
      "            \"mpg\" = 24.1\n",
      "        }\n",
      "    ]\n",
      "}\n"
     ]
    }
   ],
   "source": [
    "import json\n",
    "\n",
    "x = {\n",
    "  \"name\": \"John\",\n",
    "  \"age\": 30,\n",
    "  \"married\": True,\n",
    "  \"divorced\": False,\n",
    "  \"children\": (\"Ann\",\"Billy\"),\n",
    "  \"pets\": None,\n",
    "  \"cars\": [\n",
    "    {\"model\": \"BMW 230\", \"mpg\": 27.5},\n",
    "    {\"model\": \"Ford Edge\", \"mpg\": 24.1}\n",
    "  ]\n",
    "}\n",
    "# use . and a space to separate objects, and a space, a = and a space to separate keys from their values:\n",
    "print(json.dumps(x, indent=4, separators=(\". \", \" = \")))"
   ]
  },
  {
   "cell_type": "code",
   "execution_count": 4,
   "id": "c789605b",
   "metadata": {},
   "outputs": [
    {
     "name": "stdout",
     "output_type": "stream",
     "text": [
      "k e t   a n   s a l i   a n "
     ]
    }
   ],
   "source": [
    "var=\"ket an sali an\"\n",
    "for i in var:\n",
    "    if i==\" \":\n",
    "        pass\n",
    "    else:\n",
    "        print(i, end=\" \")"
   ]
  },
  {
   "cell_type": "code",
   "execution_count": null,
   "id": "7b589a21",
   "metadata": {},
   "outputs": [],
   "source": []
  },
  {
   "cell_type": "code",
   "execution_count": null,
   "id": "5a922a95",
   "metadata": {},
   "outputs": [],
   "source": []
  },
  {
   "cell_type": "code",
   "execution_count": null,
   "id": "505b29b9",
   "metadata": {},
   "outputs": [],
   "source": []
  },
  {
   "cell_type": "code",
   "execution_count": null,
   "id": "33f0c9dc",
   "metadata": {},
   "outputs": [],
   "source": []
  }
 ],
 "metadata": {
  "kernelspec": {
   "display_name": "Python 3 (ipykernel)",
   "language": "python",
   "name": "python3"
  },
  "language_info": {
   "codemirror_mode": {
    "name": "ipython",
    "version": 3
   },
   "file_extension": ".py",
   "mimetype": "text/x-python",
   "name": "python",
   "nbconvert_exporter": "python",
   "pygments_lexer": "ipython3",
   "version": "3.9.7"
  }
 },
 "nbformat": 4,
 "nbformat_minor": 5
}
