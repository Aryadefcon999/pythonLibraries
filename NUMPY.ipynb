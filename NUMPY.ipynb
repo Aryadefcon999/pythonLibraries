{
 "cells": [
  {
   "cell_type": "code",
   "execution_count": 1,
   "id": "d6e540db",
   "metadata": {},
   "outputs": [],
   "source": [
    "# #libraries\n",
    "# #1-Tensorflow:-speech image recognition, text bases app, time seris,videodetection(Use for Ml,DEEP L)\n",
    "\n",
    "# #2:-NUMPY (NUMPY AND PANDA ARE USE IN DATA ANALIYSIS,CREAT THE POWERFULL N-DIMENTIONS OF ARRAY,forms the base of other libraries\n",
    "\n",
    "# like scipy,scikit-learn,Replacement of matlab when uses with scipy matplotlab)\n",
    "\n",
    "# #3:-scipy is the collection of mathematical algorithem and scientific funtions buil on the numpy extension of python\n",
    "\n",
    "# high level commands and classes for manipulating and visualizing data,use for mulitdimesion\n",
    "\n",
    "# #4-panda use in data science data analysis and cleaning use,genral data wrangling, ETL jobs & data storage, used in wide variety \n",
    "\n",
    "# of acadamic and commercial domain include statistics ETC,time series-species funtionality\n",
    "# #5:-matplotlib"
   ]
  },
  {
   "cell_type": "code",
   "execution_count": 2,
   "id": "cecef9ea",
   "metadata": {},
   "outputs": [],
   "source": [
    "# # #numpy\n",
    "#What is an array\n",
    " \n",
    "# #The array is 1D array and 2D 3D \n",
    "# NumPy aims to provide an array object that is up to 50x faster than traditional Python lists.\n",
    "# # Numpy is the core libary for scientific and numerical computing in python\n",
    "# #Its provide hight performance multidimensional array object and tools of working arrays\n",
    "# #in Numpey, dememsions are called axes\n",
    "# #Differwent between NUmpy and List\n",
    "# list is ver slow the numpy\n",
    "# nympy using there contignus memeor\n"
   ]
  },
  {
   "cell_type": "code",
   "execution_count": 3,
   "id": "e827afbe",
   "metadata": {},
   "outputs": [
    {
     "name": "stdout",
     "output_type": "stream",
     "text": [
      "Requirement already satisfied: numpy in c:\\users\\ketan\\anaconda3\\lib\\site-packages (1.20.3)\n",
      "Note: you may need to restart the kernel to use updated packages.\n"
     ]
    }
   ],
   "source": [
    "pip install numpy\n"
   ]
  },
  {
   "cell_type": "markdown",
   "id": "4d7dcf7f",
   "metadata": {},
   "source": [
    "Basic numpy array"
   ]
  },
  {
   "cell_type": "code",
   "execution_count": 4,
   "id": "8a7aa99c",
   "metadata": {},
   "outputs": [
    {
     "data": {
      "text/plain": [
       "array([0.015625  , 0.00024414])"
      ]
     },
     "execution_count": 4,
     "metadata": {},
     "output_type": "execute_result"
    }
   ],
   "source": [
    "#Mathematical funtion \n",
    "\n",
    "import numpy as np#this last name we call elies name\n",
    "a=np.emath.power([2,4],-6)\n",
    "a\n"
   ]
  },
  {
   "cell_type": "code",
   "execution_count": 5,
   "id": "563833bb",
   "metadata": {},
   "outputs": [
    {
     "data": {
      "text/plain": [
       "True"
      ]
     },
     "execution_count": 5,
     "metadata": {},
     "output_type": "execute_result"
    }
   ],
   "source": [
    "import math\n",
    "np.emath.log(-math.exp(1)) == (1+1j*math.pi)"
   ]
  },
  {
   "cell_type": "code",
   "execution_count": 6,
   "id": "4c5eeb71",
   "metadata": {},
   "outputs": [
    {
     "name": "stdout",
     "output_type": "stream",
     "text": [
      "[1 2 3] <class 'numpy.ndarray'>\n",
      "[[1. 1. 1. 1. 1. 1.]\n",
      " [1. 1. 1. 1. 1. 1.]\n",
      " [1. 1. 1. 1. 1. 1.]\n",
      " [1. 1. 1. 1. 1. 1.]\n",
      " [1. 1. 1. 1. 1. 1.]]\n",
      "[[0. 0. 0. 0. 0. 0.]\n",
      " [0. 0. 0. 0. 0. 0.]]\n"
     ]
    },
    {
     "data": {
      "text/plain": [
       "(3, 3)"
      ]
     },
     "execution_count": 6,
     "metadata": {},
     "output_type": "execute_result"
    }
   ],
   "source": [
    " import numpy as a\n",
    " b=a.array([1,2,3])#1d\n",
    " c=a.array([[1,2,3],[1,2,3],[1,2,3,]])#3d\n",
    " b.ndim #dimesion\n",
    "print(b,type(b))\n",
    " d=a.zeros([2,6])#for inisclise my own weight for we use zero\n",
    "e=a.ones([5,6])\n",
    "print(e)\n",
    " print(d)\n",
    "c.shape\n"
   ]
  },
  {
   "cell_type": "code",
   "execution_count": 7,
   "id": "bb5c2c4d",
   "metadata": {},
   "outputs": [
    {
     "name": "stdout",
     "output_type": "stream",
     "text": [
      "(3, 4)\n",
      "\n",
      "[[1 2 3 4]\n",
      " [1 3 2 5]\n",
      " [1 4 1 6]]\n",
      "\n",
      "[[1 3 2 5]\n",
      " [1 4 1 6]]\n"
     ]
    }
   ],
   "source": [
    "c=a.array([[1,2,3,4],[1,3,2,5],[1,4,1,6]])\n",
    "print(c.shape)\n",
    "print()\n",
    "print(c)\n",
    "print()\n",
    "\n",
    "print(c[1:,:])\n"
   ]
  },
  {
   "cell_type": "code",
   "execution_count": 8,
   "id": "1df43204",
   "metadata": {},
   "outputs": [
    {
     "name": "stdout",
     "output_type": "stream",
     "text": [
      "[[1 2 3 4]\n",
      " [1 3 2 5]\n",
      " [1 4 1 6]]\n"
     ]
    },
    {
     "data": {
      "text/plain": [
       "array([[2, 3, 4],\n",
       "       [3, 2, 5]])"
      ]
     },
     "execution_count": 8,
     "metadata": {},
     "output_type": "execute_result"
    }
   ],
   "source": [
    "c=a.array([[1,2,3,4],[1,3,2,5],[1,4,1,6]])\n",
    "print(c)\n",
    "\n",
    "c[0:2,1:4]"
   ]
  },
  {
   "cell_type": "code",
   "execution_count": 9,
   "id": "c4452a39",
   "metadata": {},
   "outputs": [
    {
     "data": {
      "text/plain": [
       "array([0, 2, 4, 6, 8])"
      ]
     },
     "execution_count": 9,
     "metadata": {},
     "output_type": "execute_result"
    }
   ],
   "source": [
    "c=np.arange(0,10,2)\n",
    "c"
   ]
  },
  {
   "cell_type": "code",
   "execution_count": 10,
   "id": "bfc40ec1",
   "metadata": {},
   "outputs": [
    {
     "data": {
      "text/plain": [
       "array([ 1.        ,  1.18367347,  1.36734694,  1.55102041,  1.73469388,\n",
       "        1.91836735,  2.10204082,  2.28571429,  2.46938776,  2.65306122,\n",
       "        2.83673469,  3.02040816,  3.20408163,  3.3877551 ,  3.57142857,\n",
       "        3.75510204,  3.93877551,  4.12244898,  4.30612245,  4.48979592,\n",
       "        4.67346939,  4.85714286,  5.04081633,  5.2244898 ,  5.40816327,\n",
       "        5.59183673,  5.7755102 ,  5.95918367,  6.14285714,  6.32653061,\n",
       "        6.51020408,  6.69387755,  6.87755102,  7.06122449,  7.24489796,\n",
       "        7.42857143,  7.6122449 ,  7.79591837,  7.97959184,  8.16326531,\n",
       "        8.34693878,  8.53061224,  8.71428571,  8.89795918,  9.08163265,\n",
       "        9.26530612,  9.44897959,  9.63265306,  9.81632653, 10.        ])"
      ]
     },
     "execution_count": 10,
     "metadata": {},
     "output_type": "execute_result"
    }
   ],
   "source": [
    "c=np.linspace(1,10,50)#WE use in deep learnig \n",
    "c"
   ]
  },
  {
   "cell_type": "code",
   "execution_count": 11,
   "id": "ab21ad10",
   "metadata": {},
   "outputs": [],
   "source": [
    "import numpy as np\n",
    "import time\n",
    "import sys"
   ]
  },
  {
   "cell_type": "code",
   "execution_count": 12,
   "id": "a6bc433c",
   "metadata": {},
   "outputs": [
    {
     "name": "stdout",
     "output_type": "stream",
     "text": [
      "2800\n"
     ]
    }
   ],
   "source": [
    "b=range(100)\n",
    "print(sys.getsizeof(5)*len(b))"
   ]
  },
  {
   "cell_type": "code",
   "execution_count": 13,
   "id": "aa1a9767",
   "metadata": {},
   "outputs": [
    {
     "ename": "AttributeError",
     "evalue": "'numpy.ndarray' object has no attribute 'val'",
     "output_type": "error",
     "traceback": [
      "\u001b[1;31m---------------------------------------------------------------------------\u001b[0m",
      "\u001b[1;31mAttributeError\u001b[0m                            Traceback (most recent call last)",
      "\u001b[1;32m~\\AppData\\Local\\Temp/ipykernel_2248/314962732.py\u001b[0m in \u001b[0;36m<module>\u001b[1;34m\u001b[0m\n\u001b[0;32m      1\u001b[0m \u001b[0mval\u001b[0m\u001b[1;33m=\u001b[0m\u001b[1;36m2\u001b[0m\u001b[1;33m\u001b[0m\u001b[1;33m\u001b[0m\u001b[0m\n\u001b[1;32m----> 2\u001b[1;33m \u001b[0mc\u001b[0m\u001b[1;33m.\u001b[0m\u001b[0mval\u001b[0m\u001b[1;33m(\u001b[0m\u001b[0mc\u001b[0m\u001b[1;33m)\u001b[0m\u001b[1;33m\u001b[0m\u001b[1;33m\u001b[0m\u001b[0m\n\u001b[0m",
      "\u001b[1;31mAttributeError\u001b[0m: 'numpy.ndarray' object has no attribute 'val'"
     ]
    }
   ],
   "source": [
    "val=2\n",
    "c.val(c)"
   ]
  },
  {
   "cell_type": "code",
   "execution_count": null,
   "id": "ce11c026",
   "metadata": {},
   "outputs": [],
   "source": [
    "d=np.arange(100)\n",
    "\n",
    "print(d.size*d.itemsize)"
   ]
  },
  {
   "cell_type": "code",
   "execution_count": null,
   "id": "c918a3ba",
   "metadata": {},
   "outputs": [],
   "source": [
    "size=10000"
   ]
  },
  {
   "cell_type": "code",
   "execution_count": null,
   "id": "7c2f7bf6",
   "metadata": {},
   "outputs": [],
   "source": [
    "s=range(size)\n",
    "s1=range(size)\n",
    "s2=np.arange(size)\n",
    "s3=np.arange(size)\n"
   ]
  },
  {
   "cell_type": "code",
   "execution_count": null,
   "id": "abad32ab",
   "metadata": {},
   "outputs": [],
   "source": [
    "start=time.time()\n",
    "result= [(x,y)for x,y in zip(s,s1)]\n",
    "\n",
    "print(\"the time use in list\",(time.time() - start)*1000)"
   ]
  },
  {
   "cell_type": "code",
   "execution_count": null,
   "id": "898b5d4b",
   "metadata": {},
   "outputs": [],
   "source": [
    "start=time.time()\n",
    "result=s2+s3\n",
    "print((time.time() -start) * 1000)"
   ]
  },
  {
   "cell_type": "code",
   "execution_count": null,
   "id": "20a4ad37",
   "metadata": {},
   "outputs": [],
   "source": [
    "import numpy as np\n",
    "num = np.array([1,2,3])\n",
    "print(\"the first rank array\",num)\n",
    "num1 =np.array([[1,2,3],[1,2,3]])\n",
    "print('second ranke array',type(num1),num1)\n",
    "tup=np.array((1,2,3,4))\n",
    "print(\"thsi is the tuple \", tup)\n"
   ]
  },
  {
   "cell_type": "code",
   "execution_count": null,
   "id": "b1e7752d",
   "metadata": {},
   "outputs": [],
   "source": [
    "import numpy as np\n",
    "num = np.array([[1,2,3],[3,4,5]],dtype=np.float64)\n",
    "add = np.array([[5,6,5],[2,5,6]])\n",
    "print(num + add)"
   ]
  },
  {
   "cell_type": "code",
   "execution_count": null,
   "id": "62a84325",
   "metadata": {},
   "outputs": [],
   "source": [
    "import numpy as np\n",
    "num = np.array([[1,2,3],[3,4,5]],dtype=np.complex64)\n",
    "add = np.array([[5,6,5],[2,5,6]])\n",
    "print(num + add)"
   ]
  },
  {
   "cell_type": "code",
   "execution_count": null,
   "id": "8cb1486d",
   "metadata": {},
   "outputs": [],
   "source": [
    "print(\"concatenation example\")\n",
    "print (np.char.add([\"ketan--\",\"hi\"],[\"salian\",\"-jsh\"]))\n",
    "print (np.char.multiply(\"ketan--\",3))\n"
   ]
  },
  {
   "cell_type": "code",
   "execution_count": null,
   "id": "5aded9eb",
   "metadata": {},
   "outputs": [],
   "source": [
    "x=range(5)\n",
    "print(x)\n",
    "\n",
    "y=np.arange(5)\n",
    "print(y)"
   ]
  },
  {
   "cell_type": "code",
   "execution_count": null,
   "id": "39a430f9",
   "metadata": {},
   "outputs": [],
   "source": [
    "text='ketan salian'\n",
    "x=text.encode('utf_16')\n",
    "print(x)\n",
    "y=x.decode('utf_16')\n",
    "print(y)"
   ]
  },
  {
   "cell_type": "code",
   "execution_count": null,
   "id": "37c6cc50",
   "metadata": {},
   "outputs": [],
   "source": [
    "text= b'\\xff\\xfek\\x00e\\x00t\\x00a\\x00n\\x00 \\x00s\\x00a\\x00l\\x00i\\x00n\\x00a\\x00' \n",
    "\n",
    "y=x.decode(\"utf_16 \")#We use the encode an decode to hide the from the user\n",
    "print(y)"
   ]
  },
  {
   "cell_type": "code",
   "execution_count": null,
   "id": "bf981836",
   "metadata": {},
   "outputs": [],
   "source": [
    "x= np.array([\"keetan\",\"neeeta\"])\n",
    "print(np.char.strip(x,chars='e'))"
   ]
  },
  {
   "cell_type": "code",
   "execution_count": null,
   "id": "9a758962",
   "metadata": {},
   "outputs": [],
   "source": [
    "x=np.char.capitalize([\"hello\" ,\"world\"])\n",
    "x\n"
   ]
  },
  {
   "cell_type": "code",
   "execution_count": null,
   "id": "9337d709",
   "metadata": {},
   "outputs": [],
   "source": [
    "inout=np.array(['keetan ','saleian'])\n",
    "np.char.strip(inout)\n",
    "print(np.char.strip(inout,'e'))"
   ]
  },
  {
   "cell_type": "code",
   "execution_count": null,
   "id": "f12fc7bd",
   "metadata": {},
   "outputs": [],
   "source": [
    "print(np.char.lstrip([\"ketan\",\"saleian\"],\"e\"))"
   ]
  },
  {
   "cell_type": "code",
   "execution_count": null,
   "id": "67b03772",
   "metadata": {},
   "outputs": [],
   "source": [
    "print(np.char.replace('he is the good dancer','is','was'))"
   ]
  },
  {
   "cell_type": "code",
   "execution_count": null,
   "id": "bcb722fc",
   "metadata": {},
   "outputs": [],
   "source": [
    "print(np.char.center(\"ketan\",66,fillchar='*'))"
   ]
  },
  {
   "cell_type": "markdown",
   "id": "928a6549",
   "metadata": {},
   "source": [
    "# PART2 NUMPY ARRAY"
   ]
  },
  {
   "cell_type": "markdown",
   "id": "f4321619",
   "metadata": {},
   "source": [
    "\n",
    "# #ARRAY MANIPULATION"
   ]
  },
  {
   "cell_type": "code",
   "execution_count": null,
   "id": "68c5ccd3",
   "metadata": {},
   "outputs": [],
   "source": [
    "import numpy as np"
   ]
  },
  {
   "cell_type": "code",
   "execution_count": null,
   "id": "b6bdb65f",
   "metadata": {},
   "outputs": [],
   "source": [
    "a=np.arange(15)\n",
    "print(\"we creat the array\")\n",
    "print(a)\n",
    "print(\"now we reshape the array in matrix form\")\n",
    "\n",
    "b=a.reshape(3,5)#if we can not use perfact value in reshape its we give error\n",
    "print(b)\n"
   ]
  },
  {
   "cell_type": "code",
   "execution_count": null,
   "id": "b082ba7b",
   "metadata": {},
   "outputs": [],
   "source": [
    "print(b.flatten())#its bring the b array in orignal position"
   ]
  },
  {
   "cell_type": "code",
   "execution_count": null,
   "id": "0782f038",
   "metadata": {},
   "outputs": [],
   "source": [
    "print(b.flatten('f'))"
   ]
  },
  {
   "cell_type": "code",
   "execution_count": null,
   "id": "bf057313",
   "metadata": {},
   "outputs": [],
   "source": [
    "a=np.arange(12).reshape(3,4)\n",
    "print(a)"
   ]
  },
  {
   "cell_type": "code",
   "execution_count": null,
   "id": "10ab1fb8",
   "metadata": {},
   "outputs": [],
   "source": [
    "a.transpose()#Equivalent function its revers the data"
   ]
  },
  {
   "cell_type": "code",
   "execution_count": null,
   "id": "57fd744a",
   "metadata": {},
   "outputs": [],
   "source": [
    "a=np.arange(8).reshape(2,2,2)\n",
    "print(a)\n"
   ]
  },
  {
   "cell_type": "code",
   "execution_count": null,
   "id": "ec55a1bc",
   "metadata": {},
   "outputs": [],
   "source": [
    "np.rollaxis(a,2) #its use to roll the value"
   ]
  },
  {
   "cell_type": "code",
   "execution_count": null,
   "id": "14db8b69",
   "metadata": {},
   "outputs": [],
   "source": [
    "np.swapaxes(a,1,2)#its use to swap the value "
   ]
  },
  {
   "cell_type": "markdown",
   "id": "35d63188",
   "metadata": {},
   "source": [
    "# NUMPY ARITHEMATIC OPRATION"
   ]
  },
  {
   "cell_type": "code",
   "execution_count": null,
   "id": "beb0b182",
   "metadata": {},
   "outputs": [],
   "source": [
    "a=np.arange(9).reshape(3,3)\n",
    "print(a)"
   ]
  },
  {
   "cell_type": "code",
   "execution_count": null,
   "id": "c2f21ab4",
   "metadata": {},
   "outputs": [],
   "source": [
    "# a= np.array([1,2,3,4,5,6])\n",
    "# a.reshape(3,2)\n"
   ]
  },
  {
   "cell_type": "code",
   "execution_count": null,
   "id": "3ac023cf",
   "metadata": {},
   "outputs": [],
   "source": [
    "b=np.array([10,10,10])\n",
    "b\n"
   ]
  },
  {
   "cell_type": "code",
   "execution_count": null,
   "id": "83ed4d4f",
   "metadata": {},
   "outputs": [],
   "source": [
    "np.add(a,b)\n"
   ]
  },
  {
   "cell_type": "code",
   "execution_count": null,
   "id": "d97439b2",
   "metadata": {},
   "outputs": [],
   "source": [
    "np.subtract(a,b)"
   ]
  },
  {
   "cell_type": "code",
   "execution_count": null,
   "id": "c365f1d9",
   "metadata": {},
   "outputs": [],
   "source": [
    "np.multiply(a,b,)"
   ]
  },
  {
   "cell_type": "markdown",
   "id": "df718800",
   "metadata": {},
   "source": [
    "# slicing"
   ]
  },
  {
   "cell_type": "code",
   "execution_count": null,
   "id": "bd310d45",
   "metadata": {},
   "outputs": [],
   "source": [
    "a=np.arange(10)\n",
    "a"
   ]
  },
  {
   "cell_type": "code",
   "execution_count": null,
   "id": "e5619dfa",
   "metadata": {},
   "outputs": [],
   "source": [
    "a[4:8]"
   ]
  },
  {
   "cell_type": "code",
   "execution_count": null,
   "id": "99b61cc4",
   "metadata": {},
   "outputs": [],
   "source": [
    "s=slice(2,9,3)#its start from2 end at 9 last take the odd num \n",
    "a[s]"
   ]
  },
  {
   "cell_type": "markdown",
   "id": "5b02df26",
   "metadata": {},
   "source": [
    "# itration over array"
   ]
  },
  {
   "cell_type": "code",
   "execution_count": null,
   "id": "c3443bde",
   "metadata": {},
   "outputs": [],
   "source": [
    "a = np.arange(0,18,2).reshape(3,3)\n",
    "for x in np.nditer(a): #this use for itrate the valu\n",
    "     print(x)\n"
   ]
  },
  {
   "cell_type": "markdown",
   "id": "26ac8318",
   "metadata": {},
   "source": [
    "# ITRATION ORDER IN C TYPE TO F TYPE\n"
   ]
  },
  {
   "cell_type": "code",
   "execution_count": null,
   "id": "9de42ff8",
   "metadata": {},
   "outputs": [],
   "source": [
    "print(a)\n",
    "for x in np.nditer(a, order='c'):\n",
    "    print(x,)\n",
    "\n",
    "print()\n",
    "\n",
    "for x in np.nditer(a, order='f'):\n",
    "    print(x)\n",
    "    "
   ]
  },
  {
   "cell_type": "markdown",
   "id": "11cf5613",
   "metadata": {},
   "source": [
    "# JOINING ARRAY"
   ]
  },
  {
   "cell_type": "code",
   "execution_count": null,
   "id": "ddef0b8b",
   "metadata": {},
   "outputs": [],
   "source": [
    "a = np.array([[1,2],[3,4]])\n",
    "print(\"first aray\",a)"
   ]
  },
  {
   "cell_type": "code",
   "execution_count": null,
   "id": "bc40dc0b",
   "metadata": {},
   "outputs": [],
   "source": [
    "b = np.array([[5,6],[7,8]])\n",
    "print(\"second array\",b)"
   ]
  },
  {
   "cell_type": "code",
   "execution_count": null,
   "id": "b8ab0692",
   "metadata": {},
   "outputs": [],
   "source": [
    "print(np.concatenate([a,b]))"
   ]
  },
  {
   "cell_type": "code",
   "execution_count": null,
   "id": "7bf2d812",
   "metadata": {},
   "outputs": [],
   "source": [
    "print(np.concatenate([a,b],axis=1))"
   ]
  },
  {
   "cell_type": "code",
   "execution_count": null,
   "id": "1781775c",
   "metadata": {},
   "outputs": [],
   "source": [
    "a= np.arange(9)\n",
    "print(a)\n",
    "print(np.split(a,3))#split we use to convert the arange in give split value\n",
    "np.split(a,[4,5])"
   ]
  },
  {
   "cell_type": "code",
   "execution_count": null,
   "id": "93aaa38d",
   "metadata": {},
   "outputs": [],
   "source": [
    "np.split(a,[4,7])"
   ]
  },
  {
   "cell_type": "markdown",
   "id": "f85313ba",
   "metadata": {},
   "source": [
    "# RESIZING THE ARRAY"
   ]
  },
  {
   "cell_type": "code",
   "execution_count": null,
   "id": "52eefb25",
   "metadata": {},
   "outputs": [],
   "source": [
    "a = np.array([[1,2,3],[4,5,6]])\n",
    "print(a)\n",
    "print(np.shape(a))\n",
    "print(\"\\n\")\n",
    "\n",
    "b=np.resize(a,[3,2])#its use to resize the shape \n",
    "print(b)\n",
    "print(b.shape)\n",
    "print('\\n')\n",
    "b=np.resize(a,[4,2])#you can use and (r,c)to resize without error it we repet the value but no give you the error.\n",
    "print(b,\"\\n\")\n",
    "print(b.shape)"
   ]
  },
  {
   "cell_type": "markdown",
   "id": "72e04890",
   "metadata": {},
   "source": [
    "# HISTOGRAM"
   ]
  },
  {
   "cell_type": "code",
   "execution_count": null,
   "id": "43b3468c",
   "metadata": {},
   "outputs": [],
   "source": [
    "from matplotlib import pyplot as plt\n",
    "import numpy as np\n",
    "a=np.array([10,25,6,45,90,35,20,0,30,50])\n",
    "plt.hist(a,bins=[0,20,40,60,80,100])\n",
    "plt.title(\"histogram\")\n",
    "plt.xlabel(\"x-Histogram\")\n",
    "plt.show()\n",
    "\n",
    "        "
   ]
  },
  {
   "cell_type": "code",
   "execution_count": null,
   "id": "0d77c3dd",
   "metadata": {},
   "outputs": [],
   "source": [
    "plt.hist(a,bins=[0,10,20,40,60,80,100])\n",
    "\n",
    "\n"
   ]
  },
  {
   "cell_type": "markdown",
   "id": "5beb7214",
   "metadata": {},
   "source": [
    "# Other UseFull funtion in numpy"
   ]
  },
  {
   "cell_type": "code",
   "execution_count": null,
   "id": "03fc022b",
   "metadata": {},
   "outputs": [],
   "source": [
    "#linespace funtion The numpy.linspace() function returns number spaces evenly w.r.t interval.\n",
    "#Similar to numpy.arange() function but instead of step it uses sample number.(start, stop, step) \n",
    "\n",
    "a=np.linspace(1,10,20)\n",
    "b=np.linspace(10,20,30)\n",
    "b=np.sin(a)\n",
    "plt.stem(a,b)\n",
    "plt.xlim(1,10)\n",
    "plt.show()\n",
    "\n",
    "print(a)"
   ]
  },
  {
   "cell_type": "code",
   "execution_count": null,
   "id": "9f29d3ba",
   "metadata": {},
   "outputs": [],
   "source": [
    "#SUM AND AXIS\n",
    "a=np.array([[1,2,3],[4,5,6]])\n",
    "np.sum(a,axis=0)#its we give you the sum of both axis"
   ]
  },
  {
   "cell_type": "code",
   "execution_count": null,
   "id": "3639161d",
   "metadata": {},
   "outputs": [],
   "source": [
    "a=np.array([[1,2,3],[4,5,6]])\n",
    "np.sum(a,axis=1)"
   ]
  },
  {
   "cell_type": "code",
   "execution_count": null,
   "id": "a7fd7f0f",
   "metadata": {},
   "outputs": [],
   "source": [
    "#square root and stander diviation\n",
    "a=np.array([[1,2,3],[4,5,6]])\n",
    "print(np.sqrt(a))\n",
    "\n",
    "np.std(a)"
   ]
  },
  {
   "cell_type": "code",
   "execution_count": null,
   "id": "ae0287f7",
   "metadata": {},
   "outputs": [],
   "source": [
    "#log funtion \n",
    "a=np.array([[1,2,3],[4,5,6]])\n",
    "print(np.log10(a))"
   ]
  },
  {
   "cell_type": "markdown",
   "id": "bd59fabc",
   "metadata": {},
   "source": [
    "# NUMPY PRACTISE EXAMPLE"
   ]
  },
  {
   "cell_type": "code",
   "execution_count": null,
   "id": "abfffbc8",
   "metadata": {},
   "outputs": [],
   "source": [
    "#Now we are using the numpy and matplotlab for the sin grap"
   ]
  },
  {
   "cell_type": "code",
   "execution_count": null,
   "id": "7316c15d",
   "metadata": {},
   "outputs": [],
   "source": [
    "from matplotlib import pyplot as plt\n",
    "import numpy as np\n",
    "x=np.arange(0,3*np.pi,0.1)\n",
    "print(x)\n",
    "y=np.sin(x)#We use the sin value in graps\n",
    "plt.stem(x,y)# you can use any plot typ like STEM PLOT SCATTER ect\n",
    "plt.title(\"SIN GRAP\")\n",
    "plt.show()\n",
    "\n"
   ]
  },
  {
   "cell_type": "code",
   "execution_count": null,
   "id": "b3912b69",
   "metadata": {},
   "outputs": [],
   "source": [
    "#Create a 6*6 two-dimentional array, and let1 and 0 be place alternatively across the diagonals "
   ]
  },
  {
   "cell_type": "code",
   "execution_count": null,
   "id": "9e74a25c",
   "metadata": {},
   "outputs": [],
   "source": [
    "x=np.zeros((6,6),dtype=int)\n",
    "x[1::2,::2] = 1\n",
    "x[::2,1::2] = 1\n",
    "\n",
    "x"
   ]
  },
  {
   "cell_type": "code",
   "execution_count": null,
   "id": "911305ca",
   "metadata": {},
   "outputs": [],
   "source": []
  },
  {
   "cell_type": "code",
   "execution_count": null,
   "id": "35d06c46",
   "metadata": {},
   "outputs": [],
   "source": []
  },
  {
   "cell_type": "code",
   "execution_count": null,
   "id": "c7b749dc",
   "metadata": {},
   "outputs": [],
   "source": []
  },
  {
   "cell_type": "code",
   "execution_count": null,
   "id": "0f8beb5d",
   "metadata": {},
   "outputs": [],
   "source": []
  },
  {
   "cell_type": "code",
   "execution_count": null,
   "id": "309a5e30",
   "metadata": {},
   "outputs": [],
   "source": []
  },
  {
   "cell_type": "code",
   "execution_count": null,
   "id": "8ce15d7f",
   "metadata": {},
   "outputs": [],
   "source": []
  },
  {
   "cell_type": "code",
   "execution_count": null,
   "id": "d12d0dc1",
   "metadata": {},
   "outputs": [],
   "source": []
  },
  {
   "cell_type": "code",
   "execution_count": null,
   "id": "ecccdc74",
   "metadata": {},
   "outputs": [],
   "source": []
  },
  {
   "cell_type": "code",
   "execution_count": null,
   "id": "5dc67308",
   "metadata": {},
   "outputs": [],
   "source": []
  },
  {
   "cell_type": "code",
   "execution_count": null,
   "id": "3a03a1a2",
   "metadata": {},
   "outputs": [],
   "source": []
  },
  {
   "cell_type": "code",
   "execution_count": null,
   "id": "3b3f3c40",
   "metadata": {},
   "outputs": [],
   "source": []
  },
  {
   "cell_type": "code",
   "execution_count": null,
   "id": "811ff486",
   "metadata": {},
   "outputs": [],
   "source": []
  },
  {
   "cell_type": "code",
   "execution_count": null,
   "id": "acc83aaa",
   "metadata": {},
   "outputs": [],
   "source": []
  },
  {
   "cell_type": "code",
   "execution_count": null,
   "id": "cee859a0",
   "metadata": {},
   "outputs": [],
   "source": []
  },
  {
   "cell_type": "code",
   "execution_count": null,
   "id": "acca4577",
   "metadata": {},
   "outputs": [],
   "source": []
  },
  {
   "cell_type": "code",
   "execution_count": null,
   "id": "13ee8ed8",
   "metadata": {},
   "outputs": [],
   "source": []
  },
  {
   "cell_type": "code",
   "execution_count": null,
   "id": "b85cfb82",
   "metadata": {},
   "outputs": [],
   "source": []
  },
  {
   "cell_type": "code",
   "execution_count": null,
   "id": "02aefdb8",
   "metadata": {},
   "outputs": [],
   "source": []
  },
  {
   "cell_type": "code",
   "execution_count": null,
   "id": "0e1359d9",
   "metadata": {},
   "outputs": [],
   "source": []
  },
  {
   "cell_type": "code",
   "execution_count": null,
   "id": "17c9d90e",
   "metadata": {},
   "outputs": [],
   "source": []
  },
  {
   "cell_type": "code",
   "execution_count": null,
   "id": "7b4df289",
   "metadata": {},
   "outputs": [],
   "source": []
  },
  {
   "cell_type": "code",
   "execution_count": null,
   "id": "eb3f4e2c",
   "metadata": {},
   "outputs": [],
   "source": []
  },
  {
   "cell_type": "code",
   "execution_count": null,
   "id": "773f17b9",
   "metadata": {},
   "outputs": [],
   "source": []
  },
  {
   "cell_type": "code",
   "execution_count": null,
   "id": "63137e37",
   "metadata": {},
   "outputs": [],
   "source": []
  },
  {
   "cell_type": "code",
   "execution_count": null,
   "id": "1be0b21c",
   "metadata": {},
   "outputs": [],
   "source": []
  }
 ],
 "metadata": {
  "kernelspec": {
   "display_name": "Python 3 (ipykernel)",
   "language": "python",
   "name": "python3"
  },
  "language_info": {
   "codemirror_mode": {
    "name": "ipython",
    "version": 3
   },
   "file_extension": ".py",
   "mimetype": "text/x-python",
   "name": "python",
   "nbconvert_exporter": "python",
   "pygments_lexer": "ipython3",
   "version": "3.9.7"
  }
 },
 "nbformat": 4,
 "nbformat_minor": 5
}
